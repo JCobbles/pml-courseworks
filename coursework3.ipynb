{
 "cells": [
  {
   "cell_type": "markdown",
   "metadata": {},
   "source": [
    "# Coursework 3: document models\n",
    "_[Original](http://mlg.eng.cam.ac.uk/teaching/4f13/1819/cw/coursework3.pdf) by Carl Rasmussen and Manon Kok for [CUED course 4f13](http://mlg.eng.cam.ac.uk/teaching/4f13/1819/). This version adapted by Damon Wischik._\n",
    "\n",
    "This coursework involves aggregating, summarizing, and joining datasets. This may be done with straight Python, or with MATLAB-style manipulations using `numpy`, or with `pandas` dataframes. If you anticipate future work in machine learning and data science then you should learn to use `pandas` dataframes, and you may find it helpful to follow the walkthrough in [Section 3](https://notebooks.azure.com/djw1005/libraries/cl-scicomp/html/3.%20Working%20with%20data.ipynb) of IA _Scientific Computing_. If you prefer not to use dataframes, and you have questions about how they are being used in the code snippets below, ask your classmates or Dr Wischik.\n",
    "\n",
    "**What to submit.**\n",
    "Your answers should contain an explanation of what you do, and\n",
    "2&ndash;4 central commands to achieve it. Complete listings are\n",
    "unnecessary. The focus of your answer should be\n",
    "_interpretation:_ explain what the numerical values and graphs\n",
    "you produce _mean,_ and why they are as they are.  The text of\n",
    "your answer to each question should be no more than a paragraph or\n",
    "two."
   ]
  },
  {
   "cell_type": "code",
   "execution_count": 1,
   "metadata": {},
   "outputs": [],
   "source": [
    "import numpy as np\n",
    "import matplotlib\n",
    "import matplotlib.pyplot as plt\n",
    "import scipy.io\n",
    "import pandas\n",
    "\n",
    "import requests, io"
   ]
  },
  {
   "cell_type": "markdown",
   "metadata": {},
   "source": [
    "## Data import\n",
    "\n",
    "The data is provided as `http://mlg.eng.cam.ac.uk/teaching/4f13/1112/cw/kos_doc_data.mat`. It contains two matrices $A$ and $B$ for training and testing respectively, both matrices with 3 columns: document ID, word ID, and word count. The words themselves are the vector $V$, where e.g. `V[840]='bush'`. The following snippet reads in the data, and converts $A$ and $B$ to dataframes."
   ]
  },
  {
   "cell_type": "code",
   "execution_count": 2,
   "metadata": {},
   "outputs": [],
   "source": [
    "r = requests.get('http://mlg.eng.cam.ac.uk/teaching/4f13/1112/cw/kos_doc_data.mat')\n",
    "with io.BytesIO(r.content) as f:\n",
    "    data = scipy.io.loadmat(f)\n",
    "    V = np.array([i[0] for i in data['V'].squeeze()])\n",
    "    A,B = [pandas.DataFrame({'doc_id': M[:,0]-1, 'word_id': M[:,1]-1, 'count': M[:,2]}, \n",
    "                            columns=['doc_id','word_id','count']) \n",
    "           for M in (data['A'],data['B'])]"
   ]
  },
  {
   "cell_type": "markdown",
   "metadata": {},
   "source": [
    "## Question (a): simple categorical model\n",
    "\n",
    "Suppose we model words in a document as independent samples from a categorical distribution with parameter $\\beta$, where $\\beta_v$ is the probability of word $v\\in V$. Using $A$ as the training set, find the maximum likelihood estimator $\\hat{\\beta}$, and plot the 20 most-probable words in a histogram. What is the log probability of the test document `doc_id=2527`, given $\\hat{\\beta}$? Briefly interpret your answer.\n",
    "\n",
    "Note: you can plot a histogram with\n",
    "```\n",
    "with plt.rc_context({'figure.figsize': (5,8)}):            # set plot size\n",
    "    plt.barh(np.arange(20), top_20_probs, align='center')  # draw bars\n",
    "plt.yticks(np.arange(20), top_20_words)                    # label the y axis\n",
    "plt.xlabel(r'$\\hat{\\beta}$')                               # label the x axis\n",
    "plt.gca().invert_yaxis()                                   # optionally, flip the y-axis\n",
    "plt.show()\n",
    "```"
   ]
  },
  {
   "cell_type": "markdown",
   "metadata": {},
   "source": [
    "\\begin{align*}\n",
    "p(c_1,...,c_k|\\boldsymbol{\\beta}) &= \\text{Mult}(c_i,...,c_k|\\beta_1,...,\\beta_k)\\\\\n",
    "\\hat \\beta &= \\argmax_\\beta  \\log p(c_1,...,c_k|\\boldsymbol{\\beta}) = \\argmax_\\beta \\sum_{i=1}^k c_i\\log(\\beta_i) + \\lambda(1-\\sum_{i=1}^k \\beta_i)\\\\\n",
    "\\frac{\\partial \\log p(c_1,...,c_k|\\boldsymbol{\\beta})}{\\partial\\beta_i} &= \\frac{c_i}{\\beta_i}-\\lambda =0\\implies \\beta_i=\\frac{c_i}{\\lambda}\\\\\n",
    "\\frac{\\partial \\log p(c_1,...,c_k|\\boldsymbol{\\beta})}{\\partial\\lambda} &\\implies \\sum_{i=1}^k \\beta_i = 1\\\\\n",
    "\\sum\\beta_i = 1 &= \\sum \\frac{c_i}{\\lambda} = 1 \\implies \\sum c_i = \\lambda = \\text{total number of words} = n \\\\ \n",
    "&\\implies \\hat\\beta_i = \\frac{c_i}n\n",
    "\\end{align*}\n",
    "where $k=|V|$"
   ]
  },
  {
   "cell_type": "code",
   "execution_count": 3,
   "metadata": {
    "scrolled": false
   },
   "outputs": [
    {
     "data": {
      "image/png": "[encoded data removed]",
      "text/plain": [
       "<Figure size 360x576 with 1 Axes>"
      ]
     },
     "metadata": {
      "needs_background": "light"
     },
     "output_type": "display_data"
    }
   ],
   "source": [
    "c = A.groupby('word_id').sum()[['count']]\n",
    "n = int(c.sum())\n",
    "β_hat = c/n\n",
    "β_hat.columns = ['prob']\n",
    "β_sorted = β_hat.sort_values('prob', ascending=False)\n",
    "top_20_probs = β_sorted.values.squeeze()[:20]\n",
    "top_20_words = V[β_sorted.index][:20]\n",
    "ranked_words = V[β_sorted.index]\n",
    "\n",
    "with plt.rc_context({'figure.figsize': (5,8)}):            # set plot size\n",
    "    plt.barh(np.arange(20), top_20_probs, align='center')  # draw bars\n",
    "plt.yticks(np.arange(20), top_20_words)                    # label the y axis\n",
    "plt.xlabel(r'$\\hat{\\beta}$')                               # label the x axis\n",
    "plt.gca().invert_yaxis()\n",
    "plt.show()"
   ]
  },
  {
   "cell_type": "markdown",
   "metadata": {},
   "source": [
    "\\begin{align*}\n",
    "p(\\text{doc}|\\boldsymbol{\\beta}) &= \\prod_{w\\in \\text{doc}} \\beta_w \\\\\n",
    "\\log p(\\text{doc}|\\boldsymbol{\\beta}) &= \\sum_{w\\in \\text{doc}} \\log \\beta_w\n",
    "\\end{align*}"
   ]
  },
  {
   "cell_type": "code",
   "execution_count": 4,
   "metadata": {
    "scrolled": false
   },
   "outputs": [
    {
     "name": "stdout",
     "output_type": "stream",
     "text": [
      "-inf\n"
     ]
    },
    {
     "name": "stderr",
     "output_type": "stream",
     "text": [
      "c:\\users\\cobmo\\appdata\\local\\programs\\python\\python37-32\\lib\\site-packages\\ipykernel_launcher.py:4: RuntimeWarning: divide by zero encountered in log\n",
      "  after removing the cwd from sys.path.\n"
     ]
    }
   ],
   "source": [
    "def calculate_log_doc_prob(doc_id, data, β, fill=0, func=np.log):\n",
    "    doc = data.loc[data['doc_id'] == doc_id]\n",
    "    doc_joined = doc.join(β, on='word_id').fillna(fill)\n",
    "    doc_joined['logprob'] = doc_joined.apply(lambda row: row['count'] * func(row['prob']), axis=1)\n",
    "    return doc_joined.sum()[4]\n",
    "\n",
    "doc_id = 2527\n",
    "log_doc_prob = calculate_log_doc_prob(doc_id, B, β_hat)\n",
    "print(log_doc_prob)"
   ]
  },
  {
   "cell_type": "markdown",
   "metadata": {},
   "source": [
    "If we encounter a word that has not been seen before, then we get an infinitely zero probability of that word occurring. When the log is taken it results in a negative infinity. Thus, when the document probability is calculated by summing the log-probabilities, $-\\infty$ is added and so the final result will be $-\\infty$"
   ]
  },
  {
   "cell_type": "markdown",
   "metadata": {},
   "source": [
    "## Question (b): Bayesian inference\n",
    "\n",
    "For the categorical model in part (a), use Bayesian inference to find the posterior distribution of $\\beta$ given the training set $A$, using a symmetric Dirichlet distribution with concentration parameter $\\alpha=0.1$ as prior. Let $\\tilde{\\beta}_v$ be the posterior predictive probability of word $v\\in V$, i.e. the posterior probability that a newly chosen word is $v$. Derive an expression for $\\tilde{\\beta}_v$, and compare it to $\\hat{\\beta}_v$. Explain the implications, both for common and for rare words.\n",
    "\n",
    "Hint: $\\Gamma(z+1)=z\\,\\Gamma(z)$."
   ]
  },
  {
   "cell_type": "markdown",
   "metadata": {},
   "source": [
    "Let $p(\\boldsymbol{\\beta}) \\sim \\text{Dir}(\\alpha)$ where $\\alpha=0.1$\n",
    "\\begin{align*}\n",
    "p(\\boldsymbol{\\beta}|\\mathbf{c}) &\\propto p(\\mathbf{c}|\\boldsymbol{\\beta})p(\\boldsymbol{\\beta})\\\\\n",
    "&\\propto \\prod_i \\beta_i^{c_i} \\cdot \\prod_i \\beta_i^{\\alpha-1} = \\prod_i \\beta_i^{c_i+\\alpha-1}\\\\\n",
    "&\\implies \\boldsymbol{\\beta}|\\mathbf{c} \\sim \\text{Dir}(\\mathbf{c}+\\alpha)\n",
    "\\end{align*}\n"
   ]
  },
  {
   "cell_type": "markdown",
   "metadata": {},
   "source": [
    "\\begin{align*}\n",
    "\\tilde\\beta_v = p(v|A)  &= \\int p(v|\\boldsymbol{\\beta})p(\\boldsymbol{\\beta}|\\mathbf{c}) \\:d\\boldsymbol{\\beta} \\\\\n",
    "&= \\int\\frac{\\Gamma(\\sum_{i=1} c_i+ \\alpha)}{\\prod_{i=1}\\Gamma(c_i+\\alpha)}\\prod_{i=1,i\\neq v} \\beta_i^{c_i+\\alpha-1}\\cdot\\beta_v^{c_v+\\alpha+1-1} \\:d\\boldsymbol{\\beta}\\\\\n",
    "&= \\frac{\\Gamma(\\sum_{i=1} c_i+ \\alpha)}{\\Gamma(\\sum_{i=1} c_i+ \\alpha+1)}\\frac{\\Gamma(c_v+\\alpha+1)}{\\Gamma(c_v+ \\alpha)}\\int\\frac{\\Gamma(\\sum_{i=1} c_i+ \\alpha)}{\\prod_{i=1}\\Gamma(c_i+\\alpha)}\\prod_{i=1,i\\neq v} \\beta_i^{c_i+\\alpha-1}\\cdot\\beta_v^{c_v+\\alpha+1-1} \\:d\\boldsymbol{\\beta}\\\\\n",
    "&= \\frac{\\Gamma(\\sum_{i=1} c_i+ \\alpha)}{\\Gamma(\\sum_{i=1} c_i+ \\alpha+1)}\\frac{\\Gamma(c_v+\\alpha+1)}{\\Gamma(c_v+ \\alpha)} = \\frac{\\Gamma(\\sum_{i=1} c_i+ \\alpha)}{\\sum_{i=1} (c_i+ \\alpha)\\Gamma(\\sum_{i=1} c_i+ \\alpha)}\\frac{(c_v+\\alpha)\\Gamma(c_v+\\alpha)}{\\Gamma(c_v+ \\alpha)} \\\\\n",
    "&= \\frac{1}{\\sum_{i=1} (c_i+ \\alpha)}\\frac{(c_v+\\alpha)}{1} = \\frac{(c_v+\\alpha)}{\\sum_{i=1} (c_i+ \\alpha)}\n",
    "\\end{align*}"
   ]
  },
  {
   "cell_type": "code",
   "execution_count": 5,
   "metadata": {
    "scrolled": false
   },
   "outputs": [
    {
     "name": "stdout",
     "output_type": "stream",
     "text": [
      "log probability of document 2527: -1463.5761999698352\n"
     ]
    }
   ],
   "source": [
    "α = 0.1\n",
    "c = A.groupby('word_id').sum()[['count']]\n",
    "β = (c+α) / (c.sum() + c.shape[0]*α)\n",
    "β.columns = ['prob']\n",
    "\n",
    "doc_id = 2527\n",
    "log_doc_prob = calculate_log_doc_prob(doc_id, B, β, fill=0.1)\n",
    "\n",
    "print('log probability of document 2527:', log_doc_prob)"
   ]
  },
  {
   "cell_type": "markdown",
   "metadata": {},
   "source": [
    "The alpha adds pseudocounts to every word, so that it smooths the maximum likelihood; unseen words have non-zero likelihood, rarer words have a higher likelihood and thus more common words have slighly lower probabilities (to maintain normalisation to 1). As seen, this means that documents with unseen words have non-infinity probabilities."
   ]
  },
  {
   "cell_type": "markdown",
   "metadata": {},
   "source": [
    "## Question (c): interpretation\n",
    "\n",
    "In information theory, the _self-information_ of a document $w$ is defined as $i(w) = -\\log_2 p(w)$, where $p(\\cdot)$ is the probability mass function for the document generating model that you have fitted. The self-information can be interpreted as the number of bits needed to encode or transmit $w$. The number of bits needed per word is thus $i(w)/n$. In text modelling, it is more common to use the terms _perplexity_ for $2^{i(w)}$, and _per-word perplexity_ for $2^{i(w)/n}$. Loosely speaking, if the per-word perplexity is $g$ then the uncertainty in the next word is the same as the uncertainty in a $g$-sided die.\n",
    "\n",
    "For the trained Bayesian model from part (b), what is the per-word perplexity of the test document `doc_id=2000`? Plot a histogram showing the distribution of per-word perplexity over all the test documents (using [`plt.hist`](https://matplotlib.org/api/_as_gen/matplotlib.pyplot.hist.html?highlight=matplotlib%20pyplot%20hist#matplotlib.pyplot.hist)). Pick out two documents, one with high per-word perplexity and one with low per-word perplexity, show their contents, and interpret the difference between them."
   ]
  },
  {
   "cell_type": "code",
   "execution_count": 6,
   "metadata": {},
   "outputs": [
    {
     "name": "stdout",
     "output_type": "stream",
     "text": [
      "-5325.296896400677\n",
      "Per-word perplexity: 4398.962208666455\n"
     ]
    }
   ],
   "source": [
    "def calculate_perplexity(countsum, log_doc_prob):\n",
    "    i_w = -log_doc_prob\n",
    "    return 2**(i_w/countsum.sum())\n",
    "\n",
    "doc_id = 2000\n",
    "doc = B.loc[B['doc_id'] == doc_id]\n",
    "log_doc_prob = calculate_log_doc_prob(doc_id, B, β, fill=0.1, func=np.log2)\n",
    "print(log_doc_prob)\n",
    "perp = calculate_perplexity(doc['count'].sum(), log_doc_prob)\n",
    "print('Per-word perplexity:', perp)"
   ]
  },
  {
   "cell_type": "code",
   "execution_count": 7,
   "metadata": {},
   "outputs": [],
   "source": [
    "doc_joined = B.join(β, on='word_id').fillna(0.1)\n",
    "\n",
    "doc_joined['logprob'] = doc_joined.apply(lambda row: row['count'] * np.log2(row['prob']), axis=1)\n",
    "\n",
    "a = doc_joined.groupby('doc_id').sum()\n",
    "a['perp'] = a.apply(lambda row: calculate_perplexity(row['count'], row['logprob']), axis=1)\n",
    "perps = a[['perp']].values.squeeze()"
   ]
  },
  {
   "cell_type": "code",
   "execution_count": 8,
   "metadata": {},
   "outputs": [
    {
     "name": "stdout",
     "output_type": "stream",
     "text": [
      "\n"
     ]
    },
    {
     "data": {
      "image/png": "[encoded data removed]",
      "text/plain": [
       "<Figure size 432x288 with 1 Axes>"
      ]
     },
     "metadata": {
      "needs_background": "light"
     },
     "output_type": "display_data"
    }
   ],
   "source": [
    "plt.hist(perps, bins=25)\n",
    "print()"
   ]
  },
  {
   "cell_type": "code",
   "execution_count": 9,
   "metadata": {},
   "outputs": [
    {
     "name": "stdout",
     "output_type": "stream",
     "text": [
      "Per-word perplexity: 399.2505850134762\n",
      "['administration' 'american' 'arg' 'bush' 'democrats' 'february' 'general'\n",
      " 'group' 'independents' 'intelligence' 'kerry' 'latest' 'mar' 'national'\n",
      " 'poll' 'republicans' 'research' 'results' 'wont']\n",
      "\n",
      "Per-word perplexity: 7395.449395602347\n",
      "['affiliate' 'apology' 'april' 'berkeley' 'bush' 'conventional' 'doom'\n",
      " 'edition' 'explanation' 'fat' 'forces' 'forgotten' 'garofalo' 'gave'\n",
      " 'gop' 'greeted' 'ill' 'janeane' 'legal' 'local' 'media' 'newsweek' 'owes'\n",
      " 'pleasure' 'predicted' 'promised' 'red' 'section' 'strike' 'troops'\n",
      " 'waiting' 'wife' 'wisdom' 'youre']\n",
      "\n"
     ]
    },
    {
     "data": {
      "image/png": "[encoded data removed]",
      "text/plain": [
       "<Figure size 720x360 with 2 Axes>"
      ]
     },
     "metadata": {
      "needs_background": "light"
     },
     "output_type": "display_data"
    }
   ],
   "source": [
    "a_sorted = a.sort_values('perp')\n",
    "min_perp = a_sorted.iloc[0]\n",
    "max_perp = a_sorted.iloc[-1]\n",
    "min_perp_doc_id = min_perp.name\n",
    "max_perp_doc_id = max_perp.name\n",
    "\n",
    "min_doc = B[B['doc_id'] == min_perp_doc_id]\n",
    "print('Per-word perplexity:', min_perp['perp'])\n",
    "print(V[min_doc['word_id']])\n",
    "\n",
    "plt.figure(figsize=(10,5))\n",
    "plt.subplot(2, 2, 1)\n",
    "plt.title('Lowest perplexity document')\n",
    "plt.ylabel('Ranking (higher is rarer)')\n",
    "min_bp = list()\n",
    "for word in V[min_doc['word_id']]:\n",
    "    min_bp.append(np.where(ranked_words==word)[0][0])\n",
    "plt.boxplot(min_bp)\n",
    "print()\n",
    "max_doc = B[B['doc_id'] == max_perp_doc_id]\n",
    "print('Per-word perplexity:', max_perp['perp'])\n",
    "print(V[max_doc['word_id']])\n",
    "\n",
    "plt.subplot(2, 2, 2)\n",
    "plt.title('Highest perplexity document')\n",
    "plt.ylabel('Ranking (higher is rarer)')\n",
    "max_bp = list()\n",
    "for word in V[max_doc['word_id']]:\n",
    "    max_bp.append(np.where(ranked_words==word)[0][0])\n",
    "    \n",
    "plt.boxplot(max_bp)\n",
    "plt.tight_layout()\n",
    "print()"
   ]
  },
  {
   "cell_type": "markdown",
   "metadata": {},
   "source": [
    "A lower perplexity indicates that the model is more certain about a prediction; i.e. lower is better. The lowest perplexity document is 399 per word. This means that the model is as uncertain on the sample as it would be if it were made to choose randomly on a 399-side dice for each word. The same goes for the highest perplexity document, with perplexity 7395 per word.\n",
    "\n",
    "For the lowest perplexity document, as can be seen above the words are all fairly common, for example 'bush', 'kerry' are the most commonly occurring words. Thus the model is not surprised by this document. \n",
    "\n",
    "On the other hand, for the highest perplexity document, there are many rare words, meaning the perplexity will be high because the model is less certain. This can be seen in the box plots above, where the rank in the frequency table of all words (defined in question (a)), for all the words in the document are displayed. The higher perplexity document clearly has a much more spread out and rarer selection of words than the lower perplexity document."
   ]
  },
  {
   "cell_type": "markdown",
   "metadata": {},
   "source": [
    "## Question (d): Gibbs sampler for the mixture-of-multinomials model\n",
    "\n",
    "The Bayesian mixture-of-multinomials model can be described by the following code:"
   ]
  },
  {
   "cell_type": "code",
   "execution_count": 6,
   "metadata": {},
   "outputs": [
    {
     "name": "stdout",
     "output_type": "stream",
     "text": [
      "['destroy' 'accusations' 'frist' 'samarra' 'unnecessary']\n",
      "['layoffs' 'online']\n",
      "['released' 'listened' 'loss' 'mcgreevey']\n"
     ]
    }
   ],
   "source": [
    "def bmm_generate(doc_length, V, α, γ, K):\n",
    "    # doc_length = [num words in doc1, num words in doc2, ...]\n",
    "    θ = np.random.dirichlet(α * np.ones(K))              # prob dist over document classes {1,...,K}\n",
    "    β = np.random.dirichlet(γ * np.ones(len(V)), size=K) # for each doc class, a prob dist over words\n",
    "    z = np.random.choice(K, p=θ, size=len(doc_length))   # doc class of each document\n",
    "    return [np.random.choice(V, p=β[zd], size=nd) for zd,nd in zip(z, doc_length)]\n",
    "\n",
    "for doc in bmm_generate(doc_length=[5,2,4], V=V, α=10, γ=.1, K=20):\n",
    "    print(doc)"
   ]
  },
  {
   "cell_type": "markdown",
   "metadata": {},
   "source": [
    "The following code implements a collapsed Gibbs sampler. Complete the line that defines `logp`. In each sweep, the Gibbs sampler produces a sample of document classes, and this sample induces a posterior predictive distribution for the probability of each class. Plot how this distribution evolves as a function of the number of Gibbs sweeps. How many iterations does it take to converge?\n",
    "```\n",
    "```\n",
    "The Gibbs sampler may be run as follows:"
   ]
  },
  {
   "cell_type": "code",
   "execution_count": 7,
   "metadata": {},
   "outputs": [],
   "source": [
    "def bmm_gibbs(doc_label, word_id, count, W, α, γ, K):\n",
    "    # doc_labels = distinct values of doc_label\n",
    "    # doc_index = a list as long as doc_label\n",
    "    #             such that doc_labels[doc_index[j]] = doc_label[j]\n",
    "    doc_labels, doc_index = np.unique(doc_label, return_inverse=True)\n",
    "\n",
    "    # z[i] = class of document i, where i enumerates the distinct doc_labels\n",
    "    # doc_count[k] = number of documents of class k\n",
    "    z = np.random.choice(K, len(doc_labels))\n",
    "    doc_count = np.zeros(K, dtype=int)\n",
    "    for k in z: doc_count[k] += 1\n",
    "\n",
    "    # occurrences[k,w] = number of occurrences of word_id w in documents of class k\n",
    "    # word_count[k] = total number of words in documents of class k\n",
    "    x = pandas.DataFrame({'doc_class': z[doc_index], 'word_id': word_id, 'count': count}) \\\n",
    "        .groupby(['doc_class', 'word_id']) \\\n",
    "        ['count'].apply(sum) \\\n",
    "        .unstack(fill_value=0)\n",
    "    occurrences = np.zeros((K, len(V)))\n",
    "    occurrences[x.index.values.reshape((-1,1)), x.columns.values] = x\n",
    "    word_count = np.sum(occurrences, axis=1)\n",
    "    \n",
    "    while True:\n",
    "        for i in range(len(doc_labels)):\n",
    "\n",
    "            # get the words,counts for document i\n",
    "            # and remove this document from the counts\n",
    "            w,c = word_id[doc_index==i].values, count[doc_index==i].values\n",
    "            occurrences[z[i], w] -= c\n",
    "            word_count[z[i]] -= sum(c)\n",
    "            doc_count[z[i]] -= 1\n",
    "\n",
    "            # Find the log probability that this document belongs to class k, marginalized over θ and β\n",
    "            #logp = [... for k in range(K)]\n",
    "            logp = [(np.log(α+doc_count[k]) + \n",
    "                     np.dot(np.log(occurrences[k,w]+γ) - np.log(word_count[k]+γ*W), \n",
    "                            c.T)\n",
    "                    ) for k in range(K)]\n",
    "            p = np.exp(logp - np.max(logp))\n",
    "            p = p/sum(p)\n",
    "\n",
    "            # Assign this document to a new class, chosen randomly, and add back the counts\n",
    "            k = np.random.choice(K, p=p)\n",
    "            z[i] = k\n",
    "            occurrences[k, w] += c\n",
    "            word_count[k] += sum(c)\n",
    "            doc_count[k] += 1\n",
    "        \n",
    "        yield np.copy(z), doc_count, occurrences, word_count\n"
   ]
  },
  {
   "cell_type": "code",
   "execution_count": 91,
   "metadata": {},
   "outputs": [],
   "source": [
    "np.random.seed(None)\n",
    "g = bmm_gibbs(A['doc_id'], A['word_id'], A['count'], W=len(V), α=10, γ=.1, K=20)\n",
    "NUM_ITERATIONS = 20\n",
    "res = np.stack([next(g) for _ in range(NUM_ITERATIONS)])\n",
    "# this produces a matrix with one row per iteration and a column for each unique doc_id"
   ]
  },
  {
   "cell_type": "code",
   "execution_count": 92,
   "metadata": {},
   "outputs": [
    {
     "name": "stdout",
     "output_type": "stream",
     "text": [
      "\n"
     ]
    },
    {
     "data": {
      "image/png": "[encoded data removed]",
      "text/plain": [
       "<Figure size 1080x720 with 2 Axes>"
      ]
     },
     "metadata": {
      "needs_background": "light"
     },
     "output_type": "display_data"
    }
   ],
   "source": [
    "assignments = None\n",
    "for i in range(20):\n",
    "    if assignments is None:\n",
    "        assignments = res[i][0]\n",
    "    else:\n",
    "        assignments = np.c_[assignments, res[i][0]]\n",
    "        \n",
    "plt.figure(figsize=(15,10))\n",
    "plt.subplot(2,2,1)\n",
    "plt.plot(range(1,21), np.mean(assignments.T, axis=1))\n",
    "plt.ylabel('mean class assignment')\n",
    "plt.xticks(range(1,21))\n",
    "\n",
    "plt.subplot(2,2,2)\n",
    "plt.plot(range(1,21), np.std(assignments.T, axis=1))\n",
    "plt.xticks(range(1,21))\n",
    "plt.ylabel('Standard deviation of class assignment')\n",
    "print()"
   ]
  },
  {
   "cell_type": "markdown",
   "metadata": {},
   "source": [
    "When the class assignments settle to a constant mean and standard deviation, it suggests that Gibbs sampling has converged."
   ]
  },
  {
   "cell_type": "markdown",
   "metadata": {},
   "source": [
    "## Question (e): interpretation\n",
    "\n",
    "Let $\\alpha=10$, $\\gamma=0.1$, $K=20$. Run the Gibbs sampler until it converges, and find the posterior predictive probabilities for topics, and for words within each topic. \n",
    "For each the 8 most popular topics, print the probability of the topic and the 8 most probable words and their probabilities.\n",
    "Display probabilities in _shannons_, i.e. display a probability $p$ as $-\\log_2 p$. An increase of 1 shannon corresponds to a 50% decrease in probability.\n",
    "\n",
    "Rerun with different random seeds. Do you think this method has succeeded in identifying topics?\n",
    "\n",
    "**Optional.** There are some words that are very common across all topics. How might we pick out the _distinctive_ words for each topic?"
   ]
  },
  {
   "cell_type": "code",
   "execution_count": 95,
   "metadata": {
    "scrolled": false
   },
   "outputs": [
    {
     "name": "stdout",
     "output_type": "stream",
     "text": [
      "Topic 8, proportion 0.3235\n"
     ]
    },
    {
     "data": {
      "text/html": [
       "<div>\n",
       "<style scoped>\n",
       "    .dataframe tbody tr th:only-of-type {\n",
       "        vertical-align: middle;\n",
       "    }\n",
       "\n",
       "    .dataframe tbody tr th {\n",
       "        vertical-align: top;\n",
       "    }\n",
       "\n",
       "    .dataframe thead th {\n",
       "        text-align: right;\n",
       "    }\n",
       "</style>\n",
       "<table border=\"1\" class=\"dataframe\">\n",
       "  <thead>\n",
       "    <tr style=\"text-align: right;\">\n",
       "      <th></th>\n",
       "      <th>Word</th>\n",
       "      <th>Shannons</th>\n",
       "    </tr>\n",
       "  </thead>\n",
       "  <tbody>\n",
       "    <tr>\n",
       "      <th>0</th>\n",
       "      <td>bush</td>\n",
       "      <td>5.980214177817403</td>\n",
       "    </tr>\n",
       "    <tr>\n",
       "      <th>1</th>\n",
       "      <td>kerry</td>\n",
       "      <td>6.758771835567572</td>\n",
       "    </tr>\n",
       "    <tr>\n",
       "      <th>2</th>\n",
       "      <td>campaign</td>\n",
       "      <td>7.255265548426414</td>\n",
       "    </tr>\n",
       "    <tr>\n",
       "      <th>3</th>\n",
       "      <td>president</td>\n",
       "      <td>7.47497886956698</td>\n",
       "    </tr>\n",
       "    <tr>\n",
       "      <th>4</th>\n",
       "      <td>democratic</td>\n",
       "      <td>7.565176678538559</td>\n",
       "    </tr>\n",
       "    <tr>\n",
       "      <th>5</th>\n",
       "      <td>general</td>\n",
       "      <td>7.588635651362548</td>\n",
       "    </tr>\n",
       "    <tr>\n",
       "      <th>6</th>\n",
       "      <td>party</td>\n",
       "      <td>7.612482393316915</td>\n",
       "    </tr>\n",
       "    <tr>\n",
       "      <th>7</th>\n",
       "      <td>time</td>\n",
       "      <td>7.8348748146533636</td>\n",
       "    </tr>\n",
       "  </tbody>\n",
       "</table>\n",
       "</div>"
      ],
      "text/plain": [
       "         Word            Shannons\n",
       "0        bush   5.980214177817403\n",
       "1       kerry   6.758771835567572\n",
       "2    campaign   7.255265548426414\n",
       "3   president    7.47497886956698\n",
       "4  democratic   7.565176678538559\n",
       "5     general   7.588635651362548\n",
       "6       party   7.612482393316915\n",
       "7        time  7.8348748146533636"
      ]
     },
     "metadata": {},
     "output_type": "display_data"
    },
    {
     "name": "stdout",
     "output_type": "stream",
     "text": [
      "\n",
      "Topic 13, proportion 0.1885\n"
     ]
    },
    {
     "data": {
      "text/html": [
       "<div>\n",
       "<style scoped>\n",
       "    .dataframe tbody tr th:only-of-type {\n",
       "        vertical-align: middle;\n",
       "    }\n",
       "\n",
       "    .dataframe tbody tr th {\n",
       "        vertical-align: top;\n",
       "    }\n",
       "\n",
       "    .dataframe thead th {\n",
       "        text-align: right;\n",
       "    }\n",
       "</style>\n",
       "<table border=\"1\" class=\"dataframe\">\n",
       "  <thead>\n",
       "    <tr style=\"text-align: right;\">\n",
       "      <th></th>\n",
       "      <th>Word</th>\n",
       "      <th>Shannons</th>\n",
       "    </tr>\n",
       "  </thead>\n",
       "  <tbody>\n",
       "    <tr>\n",
       "      <th>0</th>\n",
       "      <td>bush</td>\n",
       "      <td>6.007087953080273</td>\n",
       "    </tr>\n",
       "    <tr>\n",
       "      <th>1</th>\n",
       "      <td>iraq</td>\n",
       "      <td>6.189476051750854</td>\n",
       "    </tr>\n",
       "    <tr>\n",
       "      <th>2</th>\n",
       "      <td>war</td>\n",
       "      <td>6.591250068182626</td>\n",
       "    </tr>\n",
       "    <tr>\n",
       "      <th>3</th>\n",
       "      <td>administration</td>\n",
       "      <td>7.0411115353691525</td>\n",
       "    </tr>\n",
       "    <tr>\n",
       "      <th>4</th>\n",
       "      <td>president</td>\n",
       "      <td>7.579297265420861</td>\n",
       "    </tr>\n",
       "    <tr>\n",
       "      <th>5</th>\n",
       "      <td>people</td>\n",
       "      <td>7.6983499370646244</td>\n",
       "    </tr>\n",
       "    <tr>\n",
       "      <th>6</th>\n",
       "      <td>american</td>\n",
       "      <td>7.8509276949430395</td>\n",
       "    </tr>\n",
       "    <tr>\n",
       "      <th>7</th>\n",
       "      <td>house</td>\n",
       "      <td>7.9959227616028965</td>\n",
       "    </tr>\n",
       "  </tbody>\n",
       "</table>\n",
       "</div>"
      ],
      "text/plain": [
       "             Word            Shannons\n",
       "0            bush   6.007087953080273\n",
       "1            iraq   6.189476051750854\n",
       "2             war   6.591250068182626\n",
       "3  administration  7.0411115353691525\n",
       "4       president   7.579297265420861\n",
       "5          people  7.6983499370646244\n",
       "6        american  7.8509276949430395\n",
       "7           house  7.9959227616028965"
      ]
     },
     "metadata": {},
     "output_type": "display_data"
    },
    {
     "name": "stdout",
     "output_type": "stream",
     "text": [
      "\n",
      "Topic 12, proportion 0.088\n"
     ]
    },
    {
     "data": {
      "text/html": [
       "<div>\n",
       "<style scoped>\n",
       "    .dataframe tbody tr th:only-of-type {\n",
       "        vertical-align: middle;\n",
       "    }\n",
       "\n",
       "    .dataframe tbody tr th {\n",
       "        vertical-align: top;\n",
       "    }\n",
       "\n",
       "    .dataframe thead th {\n",
       "        text-align: right;\n",
       "    }\n",
       "</style>\n",
       "<table border=\"1\" class=\"dataframe\">\n",
       "  <thead>\n",
       "    <tr style=\"text-align: right;\">\n",
       "      <th></th>\n",
       "      <th>Word</th>\n",
       "      <th>Shannons</th>\n",
       "    </tr>\n",
       "  </thead>\n",
       "  <tbody>\n",
       "    <tr>\n",
       "      <th>0</th>\n",
       "      <td>house</td>\n",
       "      <td>6.1004654500794375</td>\n",
       "    </tr>\n",
       "    <tr>\n",
       "      <th>1</th>\n",
       "      <td>republican</td>\n",
       "      <td>6.627850675223779</td>\n",
       "    </tr>\n",
       "    <tr>\n",
       "      <th>2</th>\n",
       "      <td>district</td>\n",
       "      <td>6.6760597682663985</td>\n",
       "    </tr>\n",
       "    <tr>\n",
       "      <th>3</th>\n",
       "      <td>race</td>\n",
       "      <td>6.747850451334409</td>\n",
       "    </tr>\n",
       "    <tr>\n",
       "      <th>4</th>\n",
       "      <td>democrats</td>\n",
       "      <td>6.870707199119942</td>\n",
       "    </tr>\n",
       "    <tr>\n",
       "      <th>5</th>\n",
       "      <td>delay</td>\n",
       "      <td>6.878744518185361</td>\n",
       "    </tr>\n",
       "    <tr>\n",
       "      <th>6</th>\n",
       "      <td>elections</td>\n",
       "      <td>6.944707780563719</td>\n",
       "    </tr>\n",
       "    <tr>\n",
       "      <th>7</th>\n",
       "      <td>senate</td>\n",
       "      <td>6.953169359311914</td>\n",
       "    </tr>\n",
       "  </tbody>\n",
       "</table>\n",
       "</div>"
      ],
      "text/plain": [
       "         Word            Shannons\n",
       "0       house  6.1004654500794375\n",
       "1  republican   6.627850675223779\n",
       "2    district  6.6760597682663985\n",
       "3        race   6.747850451334409\n",
       "4   democrats   6.870707199119942\n",
       "5       delay   6.878744518185361\n",
       "6   elections   6.944707780563719\n",
       "7      senate   6.953169359311914"
      ]
     },
     "metadata": {},
     "output_type": "display_data"
    },
    {
     "name": "stdout",
     "output_type": "stream",
     "text": [
      "\n",
      "Topic 14, proportion 0.077\n"
     ]
    },
    {
     "data": {
      "text/html": [
       "<div>\n",
       "<style scoped>\n",
       "    .dataframe tbody tr th:only-of-type {\n",
       "        vertical-align: middle;\n",
       "    }\n",
       "\n",
       "    .dataframe tbody tr th {\n",
       "        vertical-align: top;\n",
       "    }\n",
       "\n",
       "    .dataframe thead th {\n",
       "        text-align: right;\n",
       "    }\n",
       "</style>\n",
       "<table border=\"1\" class=\"dataframe\">\n",
       "  <thead>\n",
       "    <tr style=\"text-align: right;\">\n",
       "      <th></th>\n",
       "      <th>Word</th>\n",
       "      <th>Shannons</th>\n",
       "    </tr>\n",
       "  </thead>\n",
       "  <tbody>\n",
       "    <tr>\n",
       "      <th>0</th>\n",
       "      <td>bush</td>\n",
       "      <td>4.592186827489069</td>\n",
       "    </tr>\n",
       "    <tr>\n",
       "      <th>1</th>\n",
       "      <td>kerry</td>\n",
       "      <td>4.944858445807539</td>\n",
       "    </tr>\n",
       "    <tr>\n",
       "      <th>2</th>\n",
       "      <td>poll</td>\n",
       "      <td>5.654343303551638</td>\n",
       "    </tr>\n",
       "    <tr>\n",
       "      <th>3</th>\n",
       "      <td>percent</td>\n",
       "      <td>6.259867126755111</td>\n",
       "    </tr>\n",
       "    <tr>\n",
       "      <th>4</th>\n",
       "      <td>voters</td>\n",
       "      <td>6.352516414720785</td>\n",
       "    </tr>\n",
       "    <tr>\n",
       "      <th>5</th>\n",
       "      <td>general</td>\n",
       "      <td>6.499620708752996</td>\n",
       "    </tr>\n",
       "    <tr>\n",
       "      <th>6</th>\n",
       "      <td>polls</td>\n",
       "      <td>6.549373743950095</td>\n",
       "    </tr>\n",
       "    <tr>\n",
       "      <th>7</th>\n",
       "      <td>president</td>\n",
       "      <td>7.252980741169871</td>\n",
       "    </tr>\n",
       "  </tbody>\n",
       "</table>\n",
       "</div>"
      ],
      "text/plain": [
       "        Word           Shannons\n",
       "0       bush  4.592186827489069\n",
       "1      kerry  4.944858445807539\n",
       "2       poll  5.654343303551638\n",
       "3    percent  6.259867126755111\n",
       "4     voters  6.352516414720785\n",
       "5    general  6.499620708752996\n",
       "6      polls  6.549373743950095\n",
       "7  president  7.252980741169871"
      ]
     },
     "metadata": {},
     "output_type": "display_data"
    },
    {
     "name": "stdout",
     "output_type": "stream",
     "text": [
      "\n",
      "Topic 18, proportion 0.0595\n"
     ]
    },
    {
     "data": {
      "text/html": [
       "<div>\n",
       "<style scoped>\n",
       "    .dataframe tbody tr th:only-of-type {\n",
       "        vertical-align: middle;\n",
       "    }\n",
       "\n",
       "    .dataframe tbody tr th {\n",
       "        vertical-align: top;\n",
       "    }\n",
       "\n",
       "    .dataframe thead th {\n",
       "        text-align: right;\n",
       "    }\n",
       "</style>\n",
       "<table border=\"1\" class=\"dataframe\">\n",
       "  <thead>\n",
       "    <tr style=\"text-align: right;\">\n",
       "      <th></th>\n",
       "      <th>Word</th>\n",
       "      <th>Shannons</th>\n",
       "    </tr>\n",
       "  </thead>\n",
       "  <tbody>\n",
       "    <tr>\n",
       "      <th>0</th>\n",
       "      <td>kerry</td>\n",
       "      <td>4.393233128960495</td>\n",
       "    </tr>\n",
       "    <tr>\n",
       "      <th>1</th>\n",
       "      <td>dean</td>\n",
       "      <td>4.819858602514551</td>\n",
       "    </tr>\n",
       "    <tr>\n",
       "      <th>2</th>\n",
       "      <td>edwards</td>\n",
       "      <td>5.143080014423434</td>\n",
       "    </tr>\n",
       "    <tr>\n",
       "      <th>3</th>\n",
       "      <td>poll</td>\n",
       "      <td>5.314623294264129</td>\n",
       "    </tr>\n",
       "    <tr>\n",
       "      <th>4</th>\n",
       "      <td>clark</td>\n",
       "      <td>5.329270070228531</td>\n",
       "    </tr>\n",
       "    <tr>\n",
       "      <th>5</th>\n",
       "      <td>primary</td>\n",
       "      <td>5.595251760112661</td>\n",
       "    </tr>\n",
       "    <tr>\n",
       "      <th>6</th>\n",
       "      <td>bush</td>\n",
       "      <td>5.70557517501866</td>\n",
       "    </tr>\n",
       "    <tr>\n",
       "      <th>7</th>\n",
       "      <td>democratic</td>\n",
       "      <td>5.932752658920484</td>\n",
       "    </tr>\n",
       "  </tbody>\n",
       "</table>\n",
       "</div>"
      ],
      "text/plain": [
       "         Word           Shannons\n",
       "0       kerry  4.393233128960495\n",
       "1        dean  4.819858602514551\n",
       "2     edwards  5.143080014423434\n",
       "3        poll  5.314623294264129\n",
       "4       clark  5.329270070228531\n",
       "5     primary  5.595251760112661\n",
       "6        bush   5.70557517501866\n",
       "7  democratic  5.932752658920484"
      ]
     },
     "metadata": {},
     "output_type": "display_data"
    },
    {
     "name": "stdout",
     "output_type": "stream",
     "text": [
      "\n",
      "Topic 0, proportion 0.0515\n"
     ]
    },
    {
     "data": {
      "text/html": [
       "<div>\n",
       "<style scoped>\n",
       "    .dataframe tbody tr th:only-of-type {\n",
       "        vertical-align: middle;\n",
       "    }\n",
       "\n",
       "    .dataframe tbody tr th {\n",
       "        vertical-align: top;\n",
       "    }\n",
       "\n",
       "    .dataframe thead th {\n",
       "        text-align: right;\n",
       "    }\n",
       "</style>\n",
       "<table border=\"1\" class=\"dataframe\">\n",
       "  <thead>\n",
       "    <tr style=\"text-align: right;\">\n",
       "      <th></th>\n",
       "      <th>Word</th>\n",
       "      <th>Shannons</th>\n",
       "    </tr>\n",
       "  </thead>\n",
       "  <tbody>\n",
       "    <tr>\n",
       "      <th>0</th>\n",
       "      <td>november</td>\n",
       "      <td>4.557556343380504</td>\n",
       "    </tr>\n",
       "    <tr>\n",
       "      <th>1</th>\n",
       "      <td>bush</td>\n",
       "      <td>6.34655006256747</td>\n",
       "    </tr>\n",
       "    <tr>\n",
       "      <th>2</th>\n",
       "      <td>kerry</td>\n",
       "      <td>6.464789174796793</td>\n",
       "    </tr>\n",
       "    <tr>\n",
       "      <th>3</th>\n",
       "      <td>voting</td>\n",
       "      <td>6.5223998979668885</td>\n",
       "    </tr>\n",
       "    <tr>\n",
       "      <th>4</th>\n",
       "      <td>house</td>\n",
       "      <td>6.616221920323409</td>\n",
       "    </tr>\n",
       "    <tr>\n",
       "      <th>5</th>\n",
       "      <td>republicans</td>\n",
       "      <td>6.686326158787757</td>\n",
       "    </tr>\n",
       "    <tr>\n",
       "      <th>6</th>\n",
       "      <td>poll</td>\n",
       "      <td>6.686326158787757</td>\n",
       "    </tr>\n",
       "    <tr>\n",
       "      <th>7</th>\n",
       "      <td>senate</td>\n",
       "      <td>6.71047224611946</td>\n",
       "    </tr>\n",
       "  </tbody>\n",
       "</table>\n",
       "</div>"
      ],
      "text/plain": [
       "          Word            Shannons\n",
       "0     november   4.557556343380504\n",
       "1         bush    6.34655006256747\n",
       "2        kerry   6.464789174796793\n",
       "3       voting  6.5223998979668885\n",
       "4        house   6.616221920323409\n",
       "5  republicans   6.686326158787757\n",
       "6         poll   6.686326158787757\n",
       "7       senate    6.71047224611946"
      ]
     },
     "metadata": {},
     "output_type": "display_data"
    },
    {
     "name": "stdout",
     "output_type": "stream",
     "text": [
      "\n",
      "Topic 3, proportion 0.0495\n"
     ]
    },
    {
     "data": {
      "text/html": [
       "<div>\n",
       "<style scoped>\n",
       "    .dataframe tbody tr th:only-of-type {\n",
       "        vertical-align: middle;\n",
       "    }\n",
       "\n",
       "    .dataframe tbody tr th {\n",
       "        vertical-align: top;\n",
       "    }\n",
       "\n",
       "    .dataframe thead th {\n",
       "        text-align: right;\n",
       "    }\n",
       "</style>\n",
       "<table border=\"1\" class=\"dataframe\">\n",
       "  <thead>\n",
       "    <tr style=\"text-align: right;\">\n",
       "      <th></th>\n",
       "      <th>Word</th>\n",
       "      <th>Shannons</th>\n",
       "    </tr>\n",
       "  </thead>\n",
       "  <tbody>\n",
       "    <tr>\n",
       "      <th>0</th>\n",
       "      <td>dean</td>\n",
       "      <td>5.41173576256654</td>\n",
       "    </tr>\n",
       "    <tr>\n",
       "      <th>1</th>\n",
       "      <td>kerry</td>\n",
       "      <td>5.675698245010588</td>\n",
       "    </tr>\n",
       "    <tr>\n",
       "      <th>2</th>\n",
       "      <td>primary</td>\n",
       "      <td>6.145612072809506</td>\n",
       "    </tr>\n",
       "    <tr>\n",
       "      <th>3</th>\n",
       "      <td>democratic</td>\n",
       "      <td>6.168944576640129</td>\n",
       "    </tr>\n",
       "    <tr>\n",
       "      <th>4</th>\n",
       "      <td>edwards</td>\n",
       "      <td>6.317467101350218</td>\n",
       "    </tr>\n",
       "    <tr>\n",
       "      <th>5</th>\n",
       "      <td>iowa</td>\n",
       "      <td>6.416382127422905</td>\n",
       "    </tr>\n",
       "    <tr>\n",
       "      <th>6</th>\n",
       "      <td>gephardt</td>\n",
       "      <td>6.637224097195952</td>\n",
       "    </tr>\n",
       "    <tr>\n",
       "      <th>7</th>\n",
       "      <td>clark</td>\n",
       "      <td>6.9920668145560505</td>\n",
       "    </tr>\n",
       "  </tbody>\n",
       "</table>\n",
       "</div>"
      ],
      "text/plain": [
       "         Word            Shannons\n",
       "0        dean    5.41173576256654\n",
       "1       kerry   5.675698245010588\n",
       "2     primary   6.145612072809506\n",
       "3  democratic   6.168944576640129\n",
       "4     edwards   6.317467101350218\n",
       "5        iowa   6.416382127422905\n",
       "6    gephardt   6.637224097195952\n",
       "7       clark  6.9920668145560505"
      ]
     },
     "metadata": {},
     "output_type": "display_data"
    },
    {
     "name": "stdout",
     "output_type": "stream",
     "text": [
      "\n",
      "Topic 9, proportion 0.0475\n"
     ]
    },
    {
     "data": {
      "text/html": [
       "<div>\n",
       "<style scoped>\n",
       "    .dataframe tbody tr th:only-of-type {\n",
       "        vertical-align: middle;\n",
       "    }\n",
       "\n",
       "    .dataframe tbody tr th {\n",
       "        vertical-align: top;\n",
       "    }\n",
       "\n",
       "    .dataframe thead th {\n",
       "        text-align: right;\n",
       "    }\n",
       "</style>\n",
       "<table border=\"1\" class=\"dataframe\">\n",
       "  <thead>\n",
       "    <tr style=\"text-align: right;\">\n",
       "      <th></th>\n",
       "      <th>Word</th>\n",
       "      <th>Shannons</th>\n",
       "    </tr>\n",
       "  </thead>\n",
       "  <tbody>\n",
       "    <tr>\n",
       "      <th>0</th>\n",
       "      <td>november</td>\n",
       "      <td>4.516323129826881</td>\n",
       "    </tr>\n",
       "    <tr>\n",
       "      <th>1</th>\n",
       "      <td>poll</td>\n",
       "      <td>6.425381562118109</td>\n",
       "    </tr>\n",
       "    <tr>\n",
       "      <th>2</th>\n",
       "      <td>house</td>\n",
       "      <td>6.561800760344704</td>\n",
       "    </tr>\n",
       "    <tr>\n",
       "      <th>3</th>\n",
       "      <td>senate</td>\n",
       "      <td>6.7191127651748195</td>\n",
       "    </tr>\n",
       "    <tr>\n",
       "      <th>4</th>\n",
       "      <td>republicans</td>\n",
       "      <td>6.759564808912113</td>\n",
       "    </tr>\n",
       "    <tr>\n",
       "      <th>5</th>\n",
       "      <td>polls</td>\n",
       "      <td>6.780224279478206</td>\n",
       "    </tr>\n",
       "    <tr>\n",
       "      <th>6</th>\n",
       "      <td>bush</td>\n",
       "      <td>6.84403937707565</td>\n",
       "    </tr>\n",
       "    <tr>\n",
       "      <th>7</th>\n",
       "      <td>governor</td>\n",
       "      <td>6.8513073775396895</td>\n",
       "    </tr>\n",
       "  </tbody>\n",
       "</table>\n",
       "</div>"
      ],
      "text/plain": [
       "          Word            Shannons\n",
       "0     november   4.516323129826881\n",
       "1         poll   6.425381562118109\n",
       "2        house   6.561800760344704\n",
       "3       senate  6.7191127651748195\n",
       "4  republicans   6.759564808912113\n",
       "5        polls   6.780224279478206\n",
       "6         bush    6.84403937707565\n",
       "7     governor  6.8513073775396895"
      ]
     },
     "metadata": {},
     "output_type": "display_data"
    },
    {
     "name": "stdout",
     "output_type": "stream",
     "text": [
      "\n",
      "Topic 6, proportion 0.0365\n"
     ]
    },
    {
     "data": {
      "text/html": [
       "<div>\n",
       "<style scoped>\n",
       "    .dataframe tbody tr th:only-of-type {\n",
       "        vertical-align: middle;\n",
       "    }\n",
       "\n",
       "    .dataframe tbody tr th {\n",
       "        vertical-align: top;\n",
       "    }\n",
       "\n",
       "    .dataframe thead th {\n",
       "        text-align: right;\n",
       "    }\n",
       "</style>\n",
       "<table border=\"1\" class=\"dataframe\">\n",
       "  <thead>\n",
       "    <tr style=\"text-align: right;\">\n",
       "      <th></th>\n",
       "      <th>Word</th>\n",
       "      <th>Shannons</th>\n",
       "    </tr>\n",
       "  </thead>\n",
       "  <tbody>\n",
       "    <tr>\n",
       "      <th>0</th>\n",
       "      <td>senate</td>\n",
       "      <td>5.45723277472357</td>\n",
       "    </tr>\n",
       "    <tr>\n",
       "      <th>1</th>\n",
       "      <td>race</td>\n",
       "      <td>6.138282379636103</td>\n",
       "    </tr>\n",
       "    <tr>\n",
       "      <th>2</th>\n",
       "      <td>poll</td>\n",
       "      <td>6.614202121061969</td>\n",
       "    </tr>\n",
       "    <tr>\n",
       "      <th>3</th>\n",
       "      <td>state</td>\n",
       "      <td>6.664828194131937</td>\n",
       "    </tr>\n",
       "    <tr>\n",
       "      <th>4</th>\n",
       "      <td>elections</td>\n",
       "      <td>6.699593612292613</td>\n",
       "    </tr>\n",
       "    <tr>\n",
       "      <th>5</th>\n",
       "      <td>percent</td>\n",
       "      <td>6.699593612292613</td>\n",
       "    </tr>\n",
       "    <tr>\n",
       "      <th>6</th>\n",
       "      <td>republican</td>\n",
       "      <td>6.771743398048449</td>\n",
       "    </tr>\n",
       "    <tr>\n",
       "      <th>7</th>\n",
       "      <td>seat</td>\n",
       "      <td>6.887220615468385</td>\n",
       "    </tr>\n",
       "  </tbody>\n",
       "</table>\n",
       "</div>"
      ],
      "text/plain": [
       "         Word           Shannons\n",
       "0      senate   5.45723277472357\n",
       "1        race  6.138282379636103\n",
       "2        poll  6.614202121061969\n",
       "3       state  6.664828194131937\n",
       "4   elections  6.699593612292613\n",
       "5     percent  6.699593612292613\n",
       "6  republican  6.771743398048449\n",
       "7        seat  6.887220615468385"
      ]
     },
     "metadata": {},
     "output_type": "display_data"
    },
    {
     "name": "stdout",
     "output_type": "stream",
     "text": [
      "\n",
      "Topic 19, proportion 0.019\n"
     ]
    },
    {
     "data": {
      "text/html": [
       "<div>\n",
       "<style scoped>\n",
       "    .dataframe tbody tr th:only-of-type {\n",
       "        vertical-align: middle;\n",
       "    }\n",
       "\n",
       "    .dataframe tbody tr th {\n",
       "        vertical-align: top;\n",
       "    }\n",
       "\n",
       "    .dataframe thead th {\n",
       "        text-align: right;\n",
       "    }\n",
       "</style>\n",
       "<table border=\"1\" class=\"dataframe\">\n",
       "  <thead>\n",
       "    <tr style=\"text-align: right;\">\n",
       "      <th></th>\n",
       "      <th>Word</th>\n",
       "      <th>Shannons</th>\n",
       "    </tr>\n",
       "  </thead>\n",
       "  <tbody>\n",
       "    <tr>\n",
       "      <th>0</th>\n",
       "      <td>donors</td>\n",
       "      <td>5.50429719596247</td>\n",
       "    </tr>\n",
       "    <tr>\n",
       "      <th>1</th>\n",
       "      <td>dkos</td>\n",
       "      <td>6.177486879695361</td>\n",
       "    </tr>\n",
       "    <tr>\n",
       "      <th>2</th>\n",
       "      <td>candidates</td>\n",
       "      <td>6.299477404073971</td>\n",
       "    </tr>\n",
       "    <tr>\n",
       "      <th>3</th>\n",
       "      <td>matsunaka</td>\n",
       "      <td>6.342546125965857</td>\n",
       "    </tr>\n",
       "    <tr>\n",
       "      <th>4</th>\n",
       "      <td>campaign</td>\n",
       "      <td>6.5795853232667065</td>\n",
       "    </tr>\n",
       "    <tr>\n",
       "      <th>5</th>\n",
       "      <td>house</td>\n",
       "      <td>6.632052743160842</td>\n",
       "    </tr>\n",
       "    <tr>\n",
       "      <th>6</th>\n",
       "      <td>kerry</td>\n",
       "      <td>6.801977744603154</td>\n",
       "    </tr>\n",
       "    <tr>\n",
       "      <th>7</th>\n",
       "      <td>nag</td>\n",
       "      <td>6.801977744603154</td>\n",
       "    </tr>\n",
       "  </tbody>\n",
       "</table>\n",
       "</div>"
      ],
      "text/plain": [
       "         Word            Shannons\n",
       "0      donors    5.50429719596247\n",
       "1        dkos   6.177486879695361\n",
       "2  candidates   6.299477404073971\n",
       "3   matsunaka   6.342546125965857\n",
       "4    campaign  6.5795853232667065\n",
       "5       house   6.632052743160842\n",
       "6       kerry   6.801977744603154\n",
       "7         nag   6.801977744603154"
      ]
     },
     "metadata": {},
     "output_type": "display_data"
    },
    {
     "name": "stdout",
     "output_type": "stream",
     "text": [
      "\n",
      "Topic 4, proportion 0.0175\n"
     ]
    },
    {
     "data": {
      "text/html": [
       "<div>\n",
       "<style scoped>\n",
       "    .dataframe tbody tr th:only-of-type {\n",
       "        vertical-align: middle;\n",
       "    }\n",
       "\n",
       "    .dataframe tbody tr th {\n",
       "        vertical-align: top;\n",
       "    }\n",
       "\n",
       "    .dataframe thead th {\n",
       "        text-align: right;\n",
       "    }\n",
       "</style>\n",
       "<table border=\"1\" class=\"dataframe\">\n",
       "  <thead>\n",
       "    <tr style=\"text-align: right;\">\n",
       "      <th></th>\n",
       "      <th>Word</th>\n",
       "      <th>Shannons</th>\n",
       "    </tr>\n",
       "  </thead>\n",
       "  <tbody>\n",
       "    <tr>\n",
       "      <th>0</th>\n",
       "      <td>bush</td>\n",
       "      <td>6.276541108220635</td>\n",
       "    </tr>\n",
       "    <tr>\n",
       "      <th>1</th>\n",
       "      <td>jobs</td>\n",
       "      <td>6.365350375178491</td>\n",
       "    </tr>\n",
       "    <tr>\n",
       "      <th>2</th>\n",
       "      <td>voters</td>\n",
       "      <td>6.484649303550835</td>\n",
       "    </tr>\n",
       "    <tr>\n",
       "      <th>3</th>\n",
       "      <td>percent</td>\n",
       "      <td>6.561270585153748</td>\n",
       "    </tr>\n",
       "    <tr>\n",
       "      <th>4</th>\n",
       "      <td>registration</td>\n",
       "      <td>6.561270585153748</td>\n",
       "    </tr>\n",
       "    <tr>\n",
       "      <th>5</th>\n",
       "      <td>election</td>\n",
       "      <td>6.614709844115208</td>\n",
       "    </tr>\n",
       "    <tr>\n",
       "      <th>6</th>\n",
       "      <td>republican</td>\n",
       "      <td>6.950312875899647</td>\n",
       "    </tr>\n",
       "    <tr>\n",
       "      <th>7</th>\n",
       "      <td>voter</td>\n",
       "      <td>7.057228079816159</td>\n",
       "    </tr>\n",
       "  </tbody>\n",
       "</table>\n",
       "</div>"
      ],
      "text/plain": [
       "           Word           Shannons\n",
       "0          bush  6.276541108220635\n",
       "1          jobs  6.365350375178491\n",
       "2        voters  6.484649303550835\n",
       "3       percent  6.561270585153748\n",
       "4  registration  6.561270585153748\n",
       "5      election  6.614709844115208\n",
       "6    republican  6.950312875899647\n",
       "7         voter  7.057228079816159"
      ]
     },
     "metadata": {},
     "output_type": "display_data"
    },
    {
     "name": "stdout",
     "output_type": "stream",
     "text": [
      "\n",
      "Topic 11, proportion 0.014\n"
     ]
    },
    {
     "data": {
      "text/html": [
       "<div>\n",
       "<style scoped>\n",
       "    .dataframe tbody tr th:only-of-type {\n",
       "        vertical-align: middle;\n",
       "    }\n",
       "\n",
       "    .dataframe tbody tr th {\n",
       "        vertical-align: top;\n",
       "    }\n",
       "\n",
       "    .dataframe thead th {\n",
       "        text-align: right;\n",
       "    }\n",
       "</style>\n",
       "<table border=\"1\" class=\"dataframe\">\n",
       "  <thead>\n",
       "    <tr style=\"text-align: right;\">\n",
       "      <th></th>\n",
       "      <th>Word</th>\n",
       "      <th>Shannons</th>\n",
       "    </tr>\n",
       "  </thead>\n",
       "  <tbody>\n",
       "    <tr>\n",
       "      <th>0</th>\n",
       "      <td>server</td>\n",
       "      <td>6.396352936013917</td>\n",
       "    </tr>\n",
       "    <tr>\n",
       "      <th>1</th>\n",
       "      <td>time</td>\n",
       "      <td>6.576925181655738</td>\n",
       "    </tr>\n",
       "    <tr>\n",
       "      <th>2</th>\n",
       "      <td>dkos</td>\n",
       "      <td>6.783376059123164</td>\n",
       "    </tr>\n",
       "    <tr>\n",
       "      <th>3</th>\n",
       "      <td>ive</td>\n",
       "      <td>6.783376059123164</td>\n",
       "    </tr>\n",
       "    <tr>\n",
       "      <th>4</th>\n",
       "      <td>oct</td>\n",
       "      <td>6.8988532765431</td>\n",
       "    </tr>\n",
       "    <tr>\n",
       "      <th>5</th>\n",
       "      <td>database</td>\n",
       "      <td>7.024384158626959</td>\n",
       "    </tr>\n",
       "    <tr>\n",
       "      <th>6</th>\n",
       "      <td>box</td>\n",
       "      <td>7.161887682376894</td>\n",
       "    </tr>\n",
       "    <tr>\n",
       "      <th>7</th>\n",
       "      <td>working</td>\n",
       "      <td>7.161887682376894</td>\n",
       "    </tr>\n",
       "  </tbody>\n",
       "</table>\n",
       "</div>"
      ],
      "text/plain": [
       "       Word           Shannons\n",
       "0    server  6.396352936013917\n",
       "1      time  6.576925181655738\n",
       "2      dkos  6.783376059123164\n",
       "3       ive  6.783376059123164\n",
       "4       oct    6.8988532765431\n",
       "5  database  7.024384158626959\n",
       "6       box  7.161887682376894\n",
       "7   working  7.161887682376894"
      ]
     },
     "metadata": {},
     "output_type": "display_data"
    },
    {
     "name": "stdout",
     "output_type": "stream",
     "text": [
      "\n",
      "Topic 5, proportion 0.009\n"
     ]
    },
    {
     "data": {
      "text/html": [
       "<div>\n",
       "<style scoped>\n",
       "    .dataframe tbody tr th:only-of-type {\n",
       "        vertical-align: middle;\n",
       "    }\n",
       "\n",
       "    .dataframe tbody tr th {\n",
       "        vertical-align: top;\n",
       "    }\n",
       "\n",
       "    .dataframe thead th {\n",
       "        text-align: right;\n",
       "    }\n",
       "</style>\n",
       "<table border=\"1\" class=\"dataframe\">\n",
       "  <thead>\n",
       "    <tr style=\"text-align: right;\">\n",
       "      <th></th>\n",
       "      <th>Word</th>\n",
       "      <th>Shannons</th>\n",
       "    </tr>\n",
       "  </thead>\n",
       "  <tbody>\n",
       "    <tr>\n",
       "      <th>0</th>\n",
       "      <td>iraq</td>\n",
       "      <td>5.986699864315423</td>\n",
       "    </tr>\n",
       "    <tr>\n",
       "      <th>1</th>\n",
       "      <td>general</td>\n",
       "      <td>6.105998792687767</td>\n",
       "    </tr>\n",
       "    <tr>\n",
       "      <th>2</th>\n",
       "      <td>fallujah</td>\n",
       "      <td>6.105998792687767</td>\n",
       "    </tr>\n",
       "    <tr>\n",
       "      <th>3</th>\n",
       "      <td>iraqi</td>\n",
       "      <td>6.678577568953091</td>\n",
       "    </tr>\n",
       "    <tr>\n",
       "      <th>4</th>\n",
       "      <td>war</td>\n",
       "      <td>6.754526422186389</td>\n",
       "    </tr>\n",
       "    <tr>\n",
       "      <th>5</th>\n",
       "      <td>military</td>\n",
       "      <td>6.794054786373026</td>\n",
       "    </tr>\n",
       "    <tr>\n",
       "      <th>6</th>\n",
       "      <td>november</td>\n",
       "      <td>6.919585668456886</td>\n",
       "    </tr>\n",
       "    <tr>\n",
       "      <th>7</th>\n",
       "      <td>marines</td>\n",
       "      <td>7.105998792687767</td>\n",
       "    </tr>\n",
       "  </tbody>\n",
       "</table>\n",
       "</div>"
      ],
      "text/plain": [
       "       Word           Shannons\n",
       "0      iraq  5.986699864315423\n",
       "1   general  6.105998792687767\n",
       "2  fallujah  6.105998792687767\n",
       "3     iraqi  6.678577568953091\n",
       "4       war  6.754526422186389\n",
       "5  military  6.794054786373026\n",
       "6  november  6.919585668456886\n",
       "7   marines  7.105998792687767"
      ]
     },
     "metadata": {},
     "output_type": "display_data"
    },
    {
     "name": "stdout",
     "output_type": "stream",
     "text": [
      "\n",
      "Topic 15, proportion 0.0045\n"
     ]
    },
    {
     "data": {
      "text/html": [
       "<div>\n",
       "<style scoped>\n",
       "    .dataframe tbody tr th:only-of-type {\n",
       "        vertical-align: middle;\n",
       "    }\n",
       "\n",
       "    .dataframe tbody tr th {\n",
       "        vertical-align: top;\n",
       "    }\n",
       "\n",
       "    .dataframe thead th {\n",
       "        text-align: right;\n",
       "    }\n",
       "</style>\n",
       "<table border=\"1\" class=\"dataframe\">\n",
       "  <thead>\n",
       "    <tr style=\"text-align: right;\">\n",
       "      <th></th>\n",
       "      <th>Word</th>\n",
       "      <th>Shannons</th>\n",
       "    </tr>\n",
       "  </thead>\n",
       "  <tbody>\n",
       "    <tr>\n",
       "      <th>0</th>\n",
       "      <td>thurlow</td>\n",
       "      <td>6.131856960608793</td>\n",
       "    </tr>\n",
       "    <tr>\n",
       "      <th>1</th>\n",
       "      <td>records</td>\n",
       "      <td>6.324502038551189</td>\n",
       "    </tr>\n",
       "    <tr>\n",
       "      <th>2</th>\n",
       "      <td>subpoena</td>\n",
       "      <td>6.431417242467701</td>\n",
       "    </tr>\n",
       "    <tr>\n",
       "      <th>3</th>\n",
       "      <td>kerry</td>\n",
       "      <td>6.546894459887636</td>\n",
       "    </tr>\n",
       "    <tr>\n",
       "      <th>4</th>\n",
       "      <td>grand</td>\n",
       "      <td>6.546894459887636</td>\n",
       "    </tr>\n",
       "    <tr>\n",
       "      <th>5</th>\n",
       "      <td>protesters</td>\n",
       "      <td>6.672425341971495</td>\n",
       "    </tr>\n",
       "    <tr>\n",
       "      <th>6</th>\n",
       "      <td>subpoenas</td>\n",
       "      <td>6.672425341971495</td>\n",
       "    </tr>\n",
       "    <tr>\n",
       "      <th>7</th>\n",
       "      <td>criminal</td>\n",
       "      <td>6.809928865721431</td>\n",
       "    </tr>\n",
       "  </tbody>\n",
       "</table>\n",
       "</div>"
      ],
      "text/plain": [
       "         Word           Shannons\n",
       "0     thurlow  6.131856960608793\n",
       "1     records  6.324502038551189\n",
       "2    subpoena  6.431417242467701\n",
       "3       kerry  6.546894459887636\n",
       "4       grand  6.546894459887636\n",
       "5  protesters  6.672425341971495\n",
       "6   subpoenas  6.672425341971495\n",
       "7    criminal  6.809928865721431"
      ]
     },
     "metadata": {},
     "output_type": "display_data"
    },
    {
     "name": "stdout",
     "output_type": "stream",
     "text": [
      "\n",
      "Topic 7, proportion 0.004\n"
     ]
    },
    {
     "data": {
      "text/html": [
       "<div>\n",
       "<style scoped>\n",
       "    .dataframe tbody tr th:only-of-type {\n",
       "        vertical-align: middle;\n",
       "    }\n",
       "\n",
       "    .dataframe tbody tr th {\n",
       "        vertical-align: top;\n",
       "    }\n",
       "\n",
       "    .dataframe thead th {\n",
       "        text-align: right;\n",
       "    }\n",
       "</style>\n",
       "<table border=\"1\" class=\"dataframe\">\n",
       "  <thead>\n",
       "    <tr style=\"text-align: right;\">\n",
       "      <th></th>\n",
       "      <th>Word</th>\n",
       "      <th>Shannons</th>\n",
       "    </tr>\n",
       "  </thead>\n",
       "  <tbody>\n",
       "    <tr>\n",
       "      <th>0</th>\n",
       "      <td>bloggers</td>\n",
       "      <td>5.299038379367636</td>\n",
       "    </tr>\n",
       "    <tr>\n",
       "      <th>1</th>\n",
       "      <td>edwards</td>\n",
       "      <td>5.353486163390013</td>\n",
       "    </tr>\n",
       "    <tr>\n",
       "      <th>2</th>\n",
       "      <td>house</td>\n",
       "      <td>6.353486163390013</td>\n",
       "    </tr>\n",
       "    <tr>\n",
       "      <th>3</th>\n",
       "      <td>convention</td>\n",
       "      <td>6.353486163390013</td>\n",
       "    </tr>\n",
       "    <tr>\n",
       "      <th>4</th>\n",
       "      <td>kerry</td>\n",
       "      <td>6.4689633808099485</td>\n",
       "    </tr>\n",
       "    <tr>\n",
       "      <th>5</th>\n",
       "      <td>hurry</td>\n",
       "      <td>6.4689633808099485</td>\n",
       "    </tr>\n",
       "    <tr>\n",
       "      <th>6</th>\n",
       "      <td>party</td>\n",
       "      <td>6.4689633808099485</td>\n",
       "    </tr>\n",
       "    <tr>\n",
       "      <th>7</th>\n",
       "      <td>politics</td>\n",
       "      <td>6.594494262893807</td>\n",
       "    </tr>\n",
       "  </tbody>\n",
       "</table>\n",
       "</div>"
      ],
      "text/plain": [
       "         Word            Shannons\n",
       "0    bloggers   5.299038379367636\n",
       "1     edwards   5.353486163390013\n",
       "2       house   6.353486163390013\n",
       "3  convention   6.353486163390013\n",
       "4       kerry  6.4689633808099485\n",
       "5       hurry  6.4689633808099485\n",
       "6       party  6.4689633808099485\n",
       "7    politics   6.594494262893807"
      ]
     },
     "metadata": {},
     "output_type": "display_data"
    },
    {
     "name": "stdout",
     "output_type": "stream",
     "text": [
      "\n",
      "Topic 16, proportion 0.0035\n"
     ]
    },
    {
     "data": {
      "text/html": [
       "<div>\n",
       "<style scoped>\n",
       "    .dataframe tbody tr th:only-of-type {\n",
       "        vertical-align: middle;\n",
       "    }\n",
       "\n",
       "    .dataframe tbody tr th {\n",
       "        vertical-align: top;\n",
       "    }\n",
       "\n",
       "    .dataframe thead th {\n",
       "        text-align: right;\n",
       "    }\n",
       "</style>\n",
       "<table border=\"1\" class=\"dataframe\">\n",
       "  <thead>\n",
       "    <tr style=\"text-align: right;\">\n",
       "      <th></th>\n",
       "      <th>Word</th>\n",
       "      <th>Shannons</th>\n",
       "    </tr>\n",
       "  </thead>\n",
       "  <tbody>\n",
       "    <tr>\n",
       "      <th>0</th>\n",
       "      <td>marriage</td>\n",
       "      <td>4.74685018309805</td>\n",
       "    </tr>\n",
       "    <tr>\n",
       "      <th>1</th>\n",
       "      <td>state</td>\n",
       "      <td>5.0687782779854125</td>\n",
       "    </tr>\n",
       "    <tr>\n",
       "      <th>2</th>\n",
       "      <td>gay</td>\n",
       "      <td>5.74685018309805</td>\n",
       "    </tr>\n",
       "    <tr>\n",
       "      <th>3</th>\n",
       "      <td>licenses</td>\n",
       "      <td>5.8988532765431</td>\n",
       "    </tr>\n",
       "    <tr>\n",
       "      <th>4</th>\n",
       "      <td>samesex</td>\n",
       "      <td>5.8988532765431</td>\n",
       "    </tr>\n",
       "    <tr>\n",
       "      <th>5</th>\n",
       "      <td>court</td>\n",
       "      <td>6.0687782779854125</td>\n",
       "    </tr>\n",
       "    <tr>\n",
       "      <th>6</th>\n",
       "      <td>firefighters</td>\n",
       "      <td>6.0687782779854125</td>\n",
       "    </tr>\n",
       "    <tr>\n",
       "      <th>7</th>\n",
       "      <td>county</td>\n",
       "      <td>6.261423355927809</td>\n",
       "    </tr>\n",
       "  </tbody>\n",
       "</table>\n",
       "</div>"
      ],
      "text/plain": [
       "           Word            Shannons\n",
       "0      marriage    4.74685018309805\n",
       "1         state  5.0687782779854125\n",
       "2           gay    5.74685018309805\n",
       "3      licenses     5.8988532765431\n",
       "4       samesex     5.8988532765431\n",
       "5         court  6.0687782779854125\n",
       "6  firefighters  6.0687782779854125\n",
       "7        county   6.261423355927809"
      ]
     },
     "metadata": {},
     "output_type": "display_data"
    },
    {
     "name": "stdout",
     "output_type": "stream",
     "text": [
      "\n",
      "Topic 10, proportion 0.0025\n"
     ]
    },
    {
     "data": {
      "text/html": [
       "<div>\n",
       "<style scoped>\n",
       "    .dataframe tbody tr th:only-of-type {\n",
       "        vertical-align: middle;\n",
       "    }\n",
       "\n",
       "    .dataframe tbody tr th {\n",
       "        vertical-align: top;\n",
       "    }\n",
       "\n",
       "    .dataframe thead th {\n",
       "        text-align: right;\n",
       "    }\n",
       "</style>\n",
       "<table border=\"1\" class=\"dataframe\">\n",
       "  <thead>\n",
       "    <tr style=\"text-align: right;\">\n",
       "      <th></th>\n",
       "      <th>Word</th>\n",
       "      <th>Shannons</th>\n",
       "    </tr>\n",
       "  </thead>\n",
       "  <tbody>\n",
       "    <tr>\n",
       "      <th>0</th>\n",
       "      <td>film</td>\n",
       "      <td>5.1765887317233235</td>\n",
       "    </tr>\n",
       "    <tr>\n",
       "      <th>1</th>\n",
       "      <td>deceits</td>\n",
       "      <td>5.5916262310021665</td>\n",
       "    </tr>\n",
       "    <tr>\n",
       "      <th>2</th>\n",
       "      <td>debunking</td>\n",
       "      <td>5.5916262310021665</td>\n",
       "    </tr>\n",
       "    <tr>\n",
       "      <th>3</th>\n",
       "      <td>indymedia</td>\n",
       "      <td>5.7615512324444795</td>\n",
       "    </tr>\n",
       "    <tr>\n",
       "      <th>4</th>\n",
       "      <td>trade</td>\n",
       "      <td>5.954196310386875</td>\n",
       "    </tr>\n",
       "    <tr>\n",
       "      <th>5</th>\n",
       "      <td>williams</td>\n",
       "      <td>6.1765887317233235</td>\n",
       "    </tr>\n",
       "    <tr>\n",
       "      <th>6</th>\n",
       "      <td>fahrenheit</td>\n",
       "      <td>6.439623137557117</td>\n",
       "    </tr>\n",
       "    <tr>\n",
       "      <th>7</th>\n",
       "      <td>time</td>\n",
       "      <td>6.7615512324444795</td>\n",
       "    </tr>\n",
       "  </tbody>\n",
       "</table>\n",
       "</div>"
      ],
      "text/plain": [
       "         Word            Shannons\n",
       "0        film  5.1765887317233235\n",
       "1     deceits  5.5916262310021665\n",
       "2   debunking  5.5916262310021665\n",
       "3   indymedia  5.7615512324444795\n",
       "4       trade   5.954196310386875\n",
       "5    williams  6.1765887317233235\n",
       "6  fahrenheit   6.439623137557117\n",
       "7        time  6.7615512324444795"
      ]
     },
     "metadata": {},
     "output_type": "display_data"
    },
    {
     "name": "stdout",
     "output_type": "stream",
     "text": [
      "\n",
      "Topic 2, proportion 0.002\n"
     ]
    },
    {
     "data": {
      "text/html": [
       "<div>\n",
       "<style scoped>\n",
       "    .dataframe tbody tr th:only-of-type {\n",
       "        vertical-align: middle;\n",
       "    }\n",
       "\n",
       "    .dataframe tbody tr th {\n",
       "        vertical-align: top;\n",
       "    }\n",
       "\n",
       "    .dataframe thead th {\n",
       "        text-align: right;\n",
       "    }\n",
       "</style>\n",
       "<table border=\"1\" class=\"dataframe\">\n",
       "  <thead>\n",
       "    <tr style=\"text-align: right;\">\n",
       "      <th></th>\n",
       "      <th>Word</th>\n",
       "      <th>Shannons</th>\n",
       "    </tr>\n",
       "  </thead>\n",
       "  <tbody>\n",
       "    <tr>\n",
       "      <th>0</th>\n",
       "      <td>cheney</td>\n",
       "      <td>5.169925001442312</td>\n",
       "    </tr>\n",
       "    <tr>\n",
       "      <th>1</th>\n",
       "      <td>coburn</td>\n",
       "      <td>5.532495080827021</td>\n",
       "    </tr>\n",
       "    <tr>\n",
       "      <th>2</th>\n",
       "      <td>die</td>\n",
       "      <td>5.754887502163468</td>\n",
       "    </tr>\n",
       "    <tr>\n",
       "      <th>3</th>\n",
       "      <td>social</td>\n",
       "      <td>5.754887502163468</td>\n",
       "    </tr>\n",
       "    <tr>\n",
       "      <th>4</th>\n",
       "      <td>security</td>\n",
       "      <td>5.754887502163468</td>\n",
       "    </tr>\n",
       "    <tr>\n",
       "      <th>5</th>\n",
       "      <td>cheneys</td>\n",
       "      <td>6.017921907997263</td>\n",
       "    </tr>\n",
       "    <tr>\n",
       "      <th>6</th>\n",
       "      <td>hometown</td>\n",
       "      <td>6.017921907997263</td>\n",
       "    </tr>\n",
       "    <tr>\n",
       "      <th>7</th>\n",
       "      <td>oct</td>\n",
       "      <td>6.339850002884625</td>\n",
       "    </tr>\n",
       "  </tbody>\n",
       "</table>\n",
       "</div>"
      ],
      "text/plain": [
       "       Word           Shannons\n",
       "0    cheney  5.169925001442312\n",
       "1    coburn  5.532495080827021\n",
       "2       die  5.754887502163468\n",
       "3    social  5.754887502163468\n",
       "4  security  5.754887502163468\n",
       "5   cheneys  6.017921907997263\n",
       "6  hometown  6.017921907997263\n",
       "7       oct  6.339850002884625"
      ]
     },
     "metadata": {},
     "output_type": "display_data"
    },
    {
     "name": "stdout",
     "output_type": "stream",
     "text": [
      "\n",
      "Topic 1, proportion 0.0015\n"
     ]
    },
    {
     "data": {
      "text/html": [
       "<div>\n",
       "<style scoped>\n",
       "    .dataframe tbody tr th:only-of-type {\n",
       "        vertical-align: middle;\n",
       "    }\n",
       "\n",
       "    .dataframe tbody tr th {\n",
       "        vertical-align: top;\n",
       "    }\n",
       "\n",
       "    .dataframe thead th {\n",
       "        text-align: right;\n",
       "    }\n",
       "</style>\n",
       "<table border=\"1\" class=\"dataframe\">\n",
       "  <thead>\n",
       "    <tr style=\"text-align: right;\">\n",
       "      <th></th>\n",
       "      <th>Word</th>\n",
       "      <th>Shannons</th>\n",
       "    </tr>\n",
       "  </thead>\n",
       "  <tbody>\n",
       "    <tr>\n",
       "      <th>0</th>\n",
       "      <td>bush</td>\n",
       "      <td>4.162620200819079</td>\n",
       "    </tr>\n",
       "    <tr>\n",
       "      <th>1</th>\n",
       "      <td>iraq</td>\n",
       "      <td>5.03708931873522</td>\n",
       "    </tr>\n",
       "    <tr>\n",
       "      <th>2</th>\n",
       "      <td>monkeys</td>\n",
       "      <td>5.300123724569014</td>\n",
       "    </tr>\n",
       "    <tr>\n",
       "      <th>3</th>\n",
       "      <td>campaign</td>\n",
       "      <td>5.622051819456376</td>\n",
       "    </tr>\n",
       "    <tr>\n",
       "      <th>4</th>\n",
       "      <td>arm</td>\n",
       "      <td>5.622051819456376</td>\n",
       "    </tr>\n",
       "    <tr>\n",
       "      <th>5</th>\n",
       "      <td>reelection</td>\n",
       "      <td>5.622051819456376</td>\n",
       "    </tr>\n",
       "    <tr>\n",
       "      <th>6</th>\n",
       "      <td>administration</td>\n",
       "      <td>5.622051819456376</td>\n",
       "    </tr>\n",
       "    <tr>\n",
       "      <th>7</th>\n",
       "      <td>state</td>\n",
       "      <td>6.03708931873522</td>\n",
       "    </tr>\n",
       "  </tbody>\n",
       "</table>\n",
       "</div>"
      ],
      "text/plain": [
       "             Word           Shannons\n",
       "0            bush  4.162620200819079\n",
       "1            iraq   5.03708931873522\n",
       "2         monkeys  5.300123724569014\n",
       "3        campaign  5.622051819456376\n",
       "4             arm  5.622051819456376\n",
       "5      reelection  5.622051819456376\n",
       "6  administration  5.622051819456376\n",
       "7           state   6.03708931873522"
      ]
     },
     "metadata": {},
     "output_type": "display_data"
    },
    {
     "name": "stdout",
     "output_type": "stream",
     "text": [
      "\n",
      "Topic 17, proportion 0.001\n"
     ]
    },
    {
     "data": {
      "text/html": [
       "<div>\n",
       "<style scoped>\n",
       "    .dataframe tbody tr th:only-of-type {\n",
       "        vertical-align: middle;\n",
       "    }\n",
       "\n",
       "    .dataframe tbody tr th {\n",
       "        vertical-align: top;\n",
       "    }\n",
       "\n",
       "    .dataframe thead th {\n",
       "        text-align: right;\n",
       "    }\n",
       "</style>\n",
       "<table border=\"1\" class=\"dataframe\">\n",
       "  <thead>\n",
       "    <tr style=\"text-align: right;\">\n",
       "      <th></th>\n",
       "      <th>Word</th>\n",
       "      <th>Shannons</th>\n",
       "    </tr>\n",
       "  </thead>\n",
       "  <tbody>\n",
       "    <tr>\n",
       "      <th>0</th>\n",
       "      <td>oceana</td>\n",
       "      <td>4.747233929620033</td>\n",
       "    </tr>\n",
       "    <tr>\n",
       "      <th>1</th>\n",
       "      <td>fishing</td>\n",
       "      <td>5.3846638502353255</td>\n",
       "    </tr>\n",
       "    <tr>\n",
       "      <th>2</th>\n",
       "      <td>sharks</td>\n",
       "      <td>5.554588851677638</td>\n",
       "    </tr>\n",
       "    <tr>\n",
       "      <th>3</th>\n",
       "      <td>myers</td>\n",
       "      <td>5.747233929620033</td>\n",
       "    </tr>\n",
       "    <tr>\n",
       "      <th>4</th>\n",
       "      <td>shark</td>\n",
       "      <td>6.232660756790275</td>\n",
       "    </tr>\n",
       "    <tr>\n",
       "      <th>5</th>\n",
       "      <td>species</td>\n",
       "      <td>6.232660756790275</td>\n",
       "    </tr>\n",
       "    <tr>\n",
       "      <th>6</th>\n",
       "      <td>turner</td>\n",
       "      <td>6.232660756790275</td>\n",
       "    </tr>\n",
       "    <tr>\n",
       "      <th>7</th>\n",
       "      <td>foundations</td>\n",
       "      <td>6.554588851677638</td>\n",
       "    </tr>\n",
       "  </tbody>\n",
       "</table>\n",
       "</div>"
      ],
      "text/plain": [
       "          Word            Shannons\n",
       "0       oceana   4.747233929620033\n",
       "1      fishing  5.3846638502353255\n",
       "2       sharks   5.554588851677638\n",
       "3        myers   5.747233929620033\n",
       "4        shark   6.232660756790275\n",
       "5      species   6.232660756790275\n",
       "6       turner   6.232660756790275\n",
       "7  foundations   6.554588851677638"
      ]
     },
     "metadata": {},
     "output_type": "display_data"
    },
    {
     "name": "stdout",
     "output_type": "stream",
     "text": [
      "\n"
     ]
    }
   ],
   "source": [
    "occurrences = res[-1][2]\n",
    "doc_count = res[-1][1]\n",
    "proportions = doc_count/sum(doc_count)\n",
    "\n",
    "sorted_topics = np.argsort(-proportions)\n",
    "for topic in sorted_topics:\n",
    "    indices = np.argsort(-occurrences[topic,:], axis=0).astype(np.int32)[:8]\n",
    "    top_8_words = V[indices]\n",
    "    top_8_probs = -np.log2(occurrences[topic, indices]/sum(occurrences[topic,:]))\n",
    "    print(f'Topic {topic}, proportion {proportions[topic]}')\n",
    "    display(pandas.DataFrame(np.array([top_8_words, top_8_probs]).T, columns=['Word', 'Shannons']))\n",
    "    print()\n"
   ]
  },
  {
   "cell_type": "code",
   "execution_count": 96,
   "metadata": {},
   "outputs": [
    {
     "name": "stdout",
     "output_type": "stream",
     "text": [
      "\n"
     ]
    },
    {
     "data": {
      "image/png": "[encoded data removed]",
      "text/plain": [
       "<Figure size 432x288 with 1 Axes>"
      ]
     },
     "metadata": {
      "needs_background": "light"
     },
     "output_type": "display_data"
    }
   ],
   "source": [
    "plt.bar(np.arange(20), proportions)\n",
    "plt.xticks(range(20))\n",
    "plt.title('Proportion of documents in topics')\n",
    "print()"
   ]
  },
  {
   "cell_type": "markdown",
   "metadata": {},
   "source": [
    "Next we run the Gibbs sampler at different random seeds:\n"
   ]
  },
  {
   "cell_type": "code",
   "execution_count": 76,
   "metadata": {},
   "outputs": [
    {
     "name": "stdout",
     "output_type": "stream",
     "text": [
      "\n"
     ]
    },
    {
     "data": {
      "image/png": "[encoded data removed]",
      "text/plain": [
       "<Figure size 1080x720 with 2 Axes>"
      ]
     },
     "metadata": {
      "needs_background": "light"
     },
     "output_type": "display_data"
    }
   ],
   "source": [
    "np.random.seed(42)\n",
    "g = bmm_gibbs(A['doc_id'], A['word_id'], A['count'], W=len(V), α=10, γ=.1, K=20)\n",
    "NUM_ITERATIONS = 20\n",
    "res = np.stack([next(g) for _ in range(NUM_ITERATIONS)])\n",
    "\n",
    "assignments = None\n",
    "for i in range(20):\n",
    "    if assignments is None:\n",
    "        assignments = res[i][0]\n",
    "    else:\n",
    "        assignments = np.c_[assignments, res[i][0]]\n",
    "        \n",
    "plt.figure(figsize=(15,10))\n",
    "plt.subplot(2,2,1)\n",
    "plt.plot(range(1,21), np.mean(assignments.T, axis=1))\n",
    "plt.ylabel('mean class assignment')\n",
    "plt.xticks(range(1,21))\n",
    "\n",
    "plt.subplot(2,2,2)\n",
    "plt.plot(range(1,21), np.std(assignments.T, axis=1))\n",
    "plt.xticks(range(1,21))\n",
    "plt.ylabel('Standard deviation of class assignment')\n",
    "print()"
   ]
  },
  {
   "cell_type": "code",
   "execution_count": 80,
   "metadata": {},
   "outputs": [
    {
     "name": "stdout",
     "output_type": "stream",
     "text": [
      "\n"
     ]
    },
    {
     "data": {
      "image/png": "[encoded data removed]",
      "text/plain": [
       "<Figure size 432x288 with 1 Axes>"
      ]
     },
     "metadata": {
      "needs_background": "light"
     },
     "output_type": "display_data"
    }
   ],
   "source": [
    "doc_count = res[-1][1]\n",
    "plt.bar(np.arange(20), doc_count/sum(doc_count))\n",
    "plt.xticks(range(20))\n",
    "plt.title('Proportion of documents in topics (random seed=42)')\n",
    "print()"
   ]
  },
  {
   "cell_type": "code",
   "execution_count": 81,
   "metadata": {},
   "outputs": [
    {
     "name": "stdout",
     "output_type": "stream",
     "text": [
      "\n"
     ]
    },
    {
     "data": {
      "image/png": "[encoded data removed]",
      "text/plain": [
       "<Figure size 1080x720 with 2 Axes>"
      ]
     },
     "metadata": {
      "needs_background": "light"
     },
     "output_type": "display_data"
    }
   ],
   "source": [
    "np.random.seed(24)\n",
    "g = bmm_gibbs(A['doc_id'], A['word_id'], A['count'], W=len(V), α=10, γ=.1, K=20)\n",
    "NUM_ITERATIONS = 20\n",
    "res = np.stack([next(g) for _ in range(NUM_ITERATIONS)])\n",
    "\n",
    "assignments = None\n",
    "for i in range(20):\n",
    "    if assignments is None:\n",
    "        assignments = res[i][0]\n",
    "    else:\n",
    "        assignments = np.c_[assignments, res[i][0]]\n",
    "        \n",
    "plt.figure(figsize=(15,10))\n",
    "plt.subplot(2,2,1)\n",
    "plt.plot(range(1,21), np.mean(assignments.T, axis=1))\n",
    "plt.ylabel('mean class assignment')\n",
    "plt.xticks(range(1,21))\n",
    "\n",
    "plt.subplot(2,2,2)\n",
    "plt.plot(range(1,21), np.std(assignments.T, axis=1))\n",
    "plt.xticks(range(1,21))\n",
    "plt.ylabel('Standard deviation of class assignment')\n",
    "print()"
   ]
  },
  {
   "cell_type": "code",
   "execution_count": 85,
   "metadata": {},
   "outputs": [
    {
     "name": "stdout",
     "output_type": "stream",
     "text": [
      "\n"
     ]
    },
    {
     "data": {
      "image/png": "[encoded data removed]",
      "text/plain": [
       "<Figure size 432x288 with 1 Axes>"
      ]
     },
     "metadata": {
      "needs_background": "light"
     },
     "output_type": "display_data"
    }
   ],
   "source": [
    "doc_count = res[-1][1]\n",
    "plt.bar(np.arange(20), doc_count/sum(doc_count))\n",
    "plt.xticks(range(20))\n",
    "plt.title('Proportion of documents in topics (random seed=24)')\n",
    "print()"
   ]
  },
  {
   "cell_type": "markdown",
   "metadata": {},
   "source": [
    "This suggests that the final predictive posterior very much depends on where the Gibbs sampling starts. With random seed 42 the assignments are heavily weighted with more than 40\\% of documents in topic 16."
   ]
  },
  {
   "cell_type": "markdown",
   "metadata": {},
   "source": [
    "## Question (f): evaluation\n",
    "\n",
    "**Optional.** Give a formula for per-word perplexity for the mixture model, in terms of the posterior predictive probabilities for topics and words.\n",
    "\n",
    "**Optional.** Plot a histogram showing the distribution of per-word perplexity over all the test documents for the model in part (e). Also plot the histogram obtained from $K=8$, and the histogram from the plain multinomial model in part (c). Which model do you prefer, and why?"
   ]
  }
 ],
 "metadata": {
  "kernelspec": {
   "display_name": "Python 3",
   "language": "python",
   "name": "python3"
  },
  "language_info": {
   "codemirror_mode": {
    "name": "ipython",
    "version": 3
   },
   "file_extension": ".py",
   "mimetype": "text/x-python",
   "name": "python",
   "nbconvert_exporter": "python",
   "pygments_lexer": "ipython3",
   "version": "3.7.0"
  }
 },
 "nbformat": 4,
 "nbformat_minor": 2
}
