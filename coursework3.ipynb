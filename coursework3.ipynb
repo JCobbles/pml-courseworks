{
 "cells": [
  {
   "cell_type": "markdown",
   "metadata": {},
   "source": [
    "# Coursework 3: document models\n",
    "_[Original](http://mlg.eng.cam.ac.uk/teaching/4f13/1819/cw/coursework3.pdf) by Carl Rasmussen and Manon Kok for [CUED course 4f13](http://mlg.eng.cam.ac.uk/teaching/4f13/1819/). This version adapted by Damon Wischik._\n",
    "\n",
    "This coursework involves aggregating, summarizing, and joining datasets. This may be done with straight Python, or with MATLAB-style manipulations using `numpy`, or with `pandas` dataframes. If you anticipate future work in machine learning and data science then you should learn to use `pandas` dataframes, and you may find it helpful to follow the walkthrough in [Section 3](https://notebooks.azure.com/djw1005/libraries/cl-scicomp/html/3.%20Working%20with%20data.ipynb) of IA _Scientific Computing_. If you prefer not to use dataframes, and you have questions about how they are being used in the code snippets below, ask your classmates or Dr Wischik.\n",
    "\n",
    "**What to submit.**\n",
    "Your answers should contain an explanation of what you do, and\n",
    "2&ndash;4 central commands to achieve it. Complete listings are\n",
    "unnecessary. The focus of your answer should be\n",
    "_interpretation:_ explain what the numerical values and graphs\n",
    "you produce _mean,_ and why they are as they are.  The text of\n",
    "your answer to each question should be no more than a paragraph or\n",
    "two."
   ]
  },
  {
   "cell_type": "code",
   "execution_count": 1,
   "metadata": {},
   "outputs": [],
   "source": [
    "import numpy as np\n",
    "import matplotlib\n",
    "import matplotlib.pyplot as plt\n",
    "import scipy.io\n",
    "import pandas\n",
    "\n",
    "import requests, io"
   ]
  },
  {
   "cell_type": "markdown",
   "metadata": {},
   "source": [
    "## Data import\n",
    "\n",
    "The data is provided as `http://mlg.eng.cam.ac.uk/teaching/4f13/1112/cw/kos_doc_data.mat`. It contains two matrices $A$ and $B$ for training and testing respectively, both matrices with 3 columns: document ID, word ID, and word count. The words themselves are the vector $V$, where e.g. `V[840]='bush'`. The following snippet reads in the data, and converts $A$ and $B$ to dataframes."
   ]
  },
  {
   "cell_type": "code",
   "execution_count": 2,
   "metadata": {},
   "outputs": [],
   "source": [
    "r = requests.get('http://mlg.eng.cam.ac.uk/teaching/4f13/1112/cw/kos_doc_data.mat')\n",
    "with io.BytesIO(r.content) as f:\n",
    "    data = scipy.io.loadmat(f)\n",
    "    V = np.array([i[0] for i in data['V'].squeeze()])\n",
    "    A,B = [pandas.DataFrame({'doc_id': M[:,0]-1, 'word_id': M[:,1]-1, 'count': M[:,2]}, \n",
    "                            columns=['doc_id','word_id','count']) \n",
    "           for M in (data['A'],data['B'])]"
   ]
  },
  {
   "cell_type": "markdown",
   "metadata": {},
   "source": [
    "## Question (a): simple categorical model\n",
    "\n",
    "Suppose we model words in a document as independent samples from a categorical distribution with parameter $\\beta$, where $\\beta_v$ is the probability of word $v\\in V$. Using $A$ as the training set, find the maximum likelihood estimator $\\hat{\\beta}$, and plot the 20 most-probable words in a histogram. What is the log probability of the test document `doc_id=2527`, given $\\hat{\\beta}$? Briefly interpret your answer.\n",
    "\n",
    "Note: you can plot a histogram with\n",
    "```\n",
    "with plt.rc_context({'figure.figsize': (5,8)}):            # set plot size\n",
    "    plt.barh(np.arange(20), top_20_probs, align='center')  # draw bars\n",
    "plt.yticks(np.arange(20), top_20_words)                    # label the y axis\n",
    "plt.xlabel(r'$\\hat{\\beta}$')                               # label the x axis\n",
    "plt.gca().invert_yaxis()                                   # optionally, flip the y-axis\n",
    "plt.show()\n",
    "```"
   ]
  },
  {
   "cell_type": "markdown",
   "metadata": {},
   "source": [
    "\\begin{align*}\n",
    "p(c_1,...,c_k|\\boldsymbol{\\beta}) &= \\text{Mult}(c_i,...,c_k|\\beta_1,...,\\beta_k)\\\\\n",
    "\\hat \\beta &= \\argmax_\\beta  \\log p(c_1,...,c_k|\\boldsymbol{\\beta}) = \\argmax_\\beta \\sum_{i=1}^k c_i\\log(\\beta_i) + \\lambda(1-\\sum_{i=1}^k \\beta_i)\\\\\n",
    "\\frac{\\partial \\log p(c_1,...,c_k|\\boldsymbol{\\beta})}{\\partial\\beta_i} &= \\frac{c_i}{\\beta_i}-\\lambda =0\\implies \\beta_i=\\frac{c_i}{\\lambda}\\\\\n",
    "\\frac{\\partial \\log p(c_1,...,c_k|\\boldsymbol{\\beta})}{\\partial\\lambda} &\\implies \\sum_{i=1}^k \\beta_i = 1\\\\\n",
    "\\sum\\beta_i = 1 &= \\sum \\frac{c_i}{\\lambda} = 1 \\implies \\sum c_i = \\lambda = \\text{total number of words} = n \\\\ \n",
    "&\\implies \\hat\\beta_i = \\frac{c_i}n\n",
    "\\end{align*}\n",
    "where $k=|V|$"
   ]
  },
  {
   "cell_type": "code",
   "execution_count": 3,
   "metadata": {
    "scrolled": false
   },
   "outputs": [
    {
     "data": {
      "image/png": "[encoded data removed]",
      "text/plain": [
       "<Figure size 360x576 with 1 Axes>"
      ]
     },
     "metadata": {
      "needs_background": "light"
     },
     "output_type": "display_data"
    }
   ],
   "source": [
    "c = A.groupby('word_id').sum()[['count']]\n",
    "n = int(c.sum())\n",
    "β_hat = c/n\n",
    "β_hat.columns = ['prob']\n",
    "β_sorted = β_hat.sort_values('prob', ascending=False)\n",
    "top_20_probs = β_sorted.values.squeeze()[:20]\n",
    "top_20_words = V[β_sorted.index][:20]\n",
    "ranked_words = V[β_sorted.index]\n",
    "\n",
    "with plt.rc_context({'figure.figsize': (5,8)}):            # set plot size\n",
    "    plt.barh(np.arange(20), top_20_probs, align='center')  # draw bars\n",
    "plt.yticks(np.arange(20), top_20_words)                    # label the y axis\n",
    "plt.xlabel(r'$\\hat{\\beta}$')                               # label the x axis\n",
    "plt.gca().invert_yaxis()\n",
    "plt.show()"
   ]
  },
  {
   "cell_type": "markdown",
   "metadata": {},
   "source": [
    "\\begin{align*}\n",
    "p(\\text{doc}|\\boldsymbol{\\beta}) &= \\prod_{w\\in \\text{doc}} \\beta_w \\\\\n",
    "\\log p(\\text{doc}|\\boldsymbol{\\beta}) &= \\sum_{w\\in \\text{doc}} \\log \\beta_w\n",
    "\\end{align*}"
   ]
  },
  {
   "cell_type": "code",
   "execution_count": 4,
   "metadata": {
    "scrolled": false
   },
   "outputs": [
    {
     "name": "stdout",
     "output_type": "stream",
     "text": [
      "-inf\n"
     ]
    },
    {
     "name": "stderr",
     "output_type": "stream",
     "text": [
      "c:\\users\\cobmo\\appdata\\local\\programs\\python\\python37-32\\lib\\site-packages\\ipykernel_launcher.py:4: RuntimeWarning: divide by zero encountered in log\n",
      "  after removing the cwd from sys.path.\n"
     ]
    }
   ],
   "source": [
    "def calculate_log_doc_prob(doc_id, data, β, fill=0, func=np.log):\n",
    "    doc = data.loc[data['doc_id'] == doc_id]\n",
    "    doc_joined = doc.join(β, on='word_id').fillna(fill)\n",
    "    doc_joined['logprob'] = doc_joined.apply(lambda row: row['count'] * func(row['prob']), axis=1)\n",
    "    return doc_joined.sum()[4]\n",
    "\n",
    "doc_id = 2527\n",
    "log_doc_prob = calculate_log_doc_prob(doc_id, B, β_hat)\n",
    "print(log_doc_prob)"
   ]
  },
  {
   "cell_type": "markdown",
   "metadata": {},
   "source": [
    "If we encounter a word that has not been seen before, then we get an infinitely zero probability of that word occurring. When the log is taken it results in a negative infinity. Thus, when the document probability is calculated by summing the log-probabilities, $-\\infty$ is added and so the final result will be $-\\infty$"
   ]
  },
  {
   "cell_type": "markdown",
   "metadata": {},
   "source": [
    "## Question (b): Bayesian inference\n",
    "\n",
    "For the categorical model in part (a), use Bayesian inference to find the posterior distribution of $\\beta$ given the training set $A$, using a symmetric Dirichlet distribution with concentration parameter $\\alpha=0.1$ as prior. Let $\\tilde{\\beta}_v$ be the posterior predictive probability of word $v\\in V$, i.e. the posterior probability that a newly chosen word is $v$. Derive an expression for $\\tilde{\\beta}_v$, and compare it to $\\hat{\\beta}_v$. Explain the implications, both for common and for rare words.\n",
    "\n",
    "Hint: $\\Gamma(z+1)=z\\,\\Gamma(z)$."
   ]
  },
  {
   "cell_type": "markdown",
   "metadata": {},
   "source": [
    "Let $p(\\boldsymbol{\\beta}) \\sim \\text{Dir}(\\alpha)$ where $\\alpha=0.1$\n",
    "\\begin{align*}\n",
    "p(\\boldsymbol{\\beta}|\\mathbf{c}) &\\propto p(\\mathbf{c}|\\boldsymbol{\\beta})p(\\boldsymbol{\\beta})\\\\\n",
    "&\\propto \\prod_i \\beta_i^{c_i} \\cdot \\prod_i \\beta_i^{\\alpha-1} = \\prod_i \\beta_i^{c_i+\\alpha-1}\\\\\n",
    "&\\implies \\boldsymbol{\\beta}|\\mathbf{c} \\sim \\text{Dir}(\\mathbf{c}+\\alpha)\n",
    "\\end{align*}\n"
   ]
  },
  {
   "cell_type": "markdown",
   "metadata": {},
   "source": [
    "\\begin{align*}\n",
    "\\tilde\\beta_v = p(v|A)  &= \\int p(v|\\boldsymbol{\\beta})p(\\boldsymbol{\\beta}|\\mathbf{c}) \\:d\\boldsymbol{\\beta} \\\\\n",
    "&= \\int\\frac{\\Gamma(\\sum_{i=1} c_i+ \\alpha)}{\\prod_{i=1}\\Gamma(c_i+\\alpha)}\\prod_{i=1,i\\neq v} \\beta_i^{c_i+\\alpha-1}\\cdot\\beta_v^{c_v+\\alpha+1-1} \\:d\\boldsymbol{\\beta}\\\\\n",
    "&= \\frac{\\Gamma(\\sum_{i=1} c_i+ \\alpha)}{\\Gamma(\\sum_{i=1} c_i+ \\alpha+1)}\\frac{\\Gamma(c_v+\\alpha+1)}{\\Gamma(c_v+ \\alpha)}\\int\\frac{\\Gamma(\\sum_{i=1} c_i+ \\alpha)}{\\prod_{i=1}\\Gamma(c_i+\\alpha)}\\prod_{i=1,i\\neq v} \\beta_i^{c_i+\\alpha-1}\\cdot\\beta_v^{c_v+\\alpha+1-1} \\:d\\boldsymbol{\\beta}\\\\\n",
    "&= \\frac{\\Gamma(\\sum_{i=1} c_i+ \\alpha)}{\\Gamma(\\sum_{i=1} c_i+ \\alpha+1)}\\frac{\\Gamma(c_v+\\alpha+1)}{\\Gamma(c_v+ \\alpha)} = \\frac{\\Gamma(\\sum_{i=1} c_i+ \\alpha)}{\\sum_{i=1} (c_i+ \\alpha)\\Gamma(\\sum_{i=1} c_i+ \\alpha)}\\frac{(c_v+\\alpha)\\Gamma(c_v+\\alpha)}{\\Gamma(c_v+ \\alpha)} \\\\\n",
    "&= \\frac{1}{\\sum_{i=1} (c_i+ \\alpha)}\\frac{(c_v+\\alpha)}{1} = \\frac{(c_v+\\alpha)}{\\sum_{i=1} (c_i+ \\alpha)}\n",
    "\\end{align*}"
   ]
  },
  {
   "cell_type": "code",
   "execution_count": 5,
   "metadata": {
    "scrolled": false
   },
   "outputs": [
    {
     "name": "stdout",
     "output_type": "stream",
     "text": [
      "log probability of document 2527: -1463.5761999698352\n"
     ]
    }
   ],
   "source": [
    "α = 0.1\n",
    "c = A.groupby('word_id').sum()[['count']]\n",
    "β = (c+α) / (c.sum() + c.shape[0]*α)\n",
    "β.columns = ['prob']\n",
    "\n",
    "doc_id = 2527\n",
    "log_doc_prob = calculate_log_doc_prob(doc_id, B, β, fill=0.1)\n",
    "\n",
    "print('log probability of document 2527:', log_doc_prob)"
   ]
  },
  {
   "cell_type": "markdown",
   "metadata": {},
   "source": [
    "The alpha adds pseudocounts to every word, so that it smooths the maximum likelihood; unseen words have non-zero likelihood, rarer words have a higher likelihood and thus more common words have slighly lower probabilities (to maintain normalisation to 1). As seen, this means that documents with unseen words have non-infinity probabilities."
   ]
  },
  {
   "cell_type": "markdown",
   "metadata": {},
   "source": [
    "## Question (c): interpretation\n",
    "\n",
    "In information theory, the _self-information_ of a document $w$ is defined as $i(w) = -\\log_2 p(w)$, where $p(\\cdot)$ is the probability mass function for the document generating model that you have fitted. The self-information can be interpreted as the number of bits needed to encode or transmit $w$. The number of bits needed per word is thus $i(w)/n$. In text modelling, it is more common to use the terms _perplexity_ for $2^{i(w)}$, and _per-word perplexity_ for $2^{i(w)/n}$. Loosely speaking, if the per-word perplexity is $g$ then the uncertainty in the next word is the same as the uncertainty in a $g$-sided die.\n",
    "\n",
    "For the trained Bayesian model from part (b), what is the per-word perplexity of the test document `doc_id=2000`? Plot a histogram showing the distribution of per-word perplexity over all the test documents (using [`plt.hist`](https://matplotlib.org/api/_as_gen/matplotlib.pyplot.hist.html?highlight=matplotlib%20pyplot%20hist#matplotlib.pyplot.hist)). Pick out two documents, one with high per-word perplexity and one with low per-word perplexity, show their contents, and interpret the difference between them."
   ]
  },
  {
   "cell_type": "code",
   "execution_count": 6,
   "metadata": {},
   "outputs": [
    {
     "name": "stdout",
     "output_type": "stream",
     "text": [
      "-5325.296896400677\n",
      "Per-word perplexity: 4398.962208666455\n"
     ]
    }
   ],
   "source": [
    "def calculate_perplexity(countsum, log_doc_prob):\n",
    "    i_w = -log_doc_prob\n",
    "    return 2**(i_w/countsum.sum())\n",
    "\n",
    "doc_id = 2000\n",
    "doc = B.loc[B['doc_id'] == doc_id]\n",
    "log_doc_prob = calculate_log_doc_prob(doc_id, B, β, fill=0.1, func=np.log2)\n",
    "print(log_doc_prob)\n",
    "perp = calculate_perplexity(doc['count'].sum(), log_doc_prob)\n",
    "print('Per-word perplexity:', perp)"
   ]
  },
  {
   "cell_type": "code",
   "execution_count": 7,
   "metadata": {},
   "outputs": [],
   "source": [
    "doc_joined = B.join(β, on='word_id').fillna(0.1)\n",
    "\n",
    "doc_joined['logprob'] = doc_joined.apply(lambda row: row['count'] * np.log2(row['prob']), axis=1)\n",
    "\n",
    "a = doc_joined.groupby('doc_id').sum()\n",
    "a['perp'] = a.apply(lambda row: calculate_perplexity(row['count'], row['logprob']), axis=1)\n",
    "perps = a[['perp']].values.squeeze()"
   ]
  },
  {
   "cell_type": "code",
   "execution_count": 8,
   "metadata": {},
   "outputs": [
    {
     "name": "stdout",
     "output_type": "stream",
     "text": [
      "\n"
     ]
    },
    {
     "data": {
      "image/png": "[encoded data removed]",
      "text/plain": [
       "<Figure size 432x288 with 1 Axes>"
      ]
     },
     "metadata": {
      "needs_background": "light"
     },
     "output_type": "display_data"
    }
   ],
   "source": [
    "plt.hist(perps, bins=25)\n",
    "print()"
   ]
  },
  {
   "cell_type": "code",
   "execution_count": 9,
   "metadata": {},
   "outputs": [
    {
     "name": "stdout",
     "output_type": "stream",
     "text": [
      "Per-word perplexity: 399.2505850134762\n",
      "['administration' 'american' 'arg' 'bush' 'democrats' 'february' 'general'\n",
      " 'group' 'independents' 'intelligence' 'kerry' 'latest' 'mar' 'national'\n",
      " 'poll' 'republicans' 'research' 'results' 'wont']\n",
      "\n",
      "Per-word perplexity: 7395.449395602347\n",
      "['affiliate' 'apology' 'april' 'berkeley' 'bush' 'conventional' 'doom'\n",
      " 'edition' 'explanation' 'fat' 'forces' 'forgotten' 'garofalo' 'gave'\n",
      " 'gop' 'greeted' 'ill' 'janeane' 'legal' 'local' 'media' 'newsweek' 'owes'\n",
      " 'pleasure' 'predicted' 'promised' 'red' 'section' 'strike' 'troops'\n",
      " 'waiting' 'wife' 'wisdom' 'youre']\n",
      "\n"
     ]
    },
    {
     "data": {
      "image/png": "[encoded data removed]",
      "text/plain": [
       "<Figure size 720x360 with 2 Axes>"
      ]
     },
     "metadata": {
      "needs_background": "light"
     },
     "output_type": "display_data"
    }
   ],
   "source": [
    "a_sorted = a.sort_values('perp')\n",
    "min_perp = a_sorted.iloc[0]\n",
    "max_perp = a_sorted.iloc[-1]\n",
    "min_perp_doc_id = min_perp.name\n",
    "max_perp_doc_id = max_perp.name\n",
    "\n",
    "min_doc = B[B['doc_id'] == min_perp_doc_id]\n",
    "print('Per-word perplexity:', min_perp['perp'])\n",
    "print(V[min_doc['word_id']])\n",
    "\n",
    "plt.figure(figsize=(10,5))\n",
    "plt.subplot(2, 2, 1)\n",
    "plt.title('Lowest perplexity document')\n",
    "plt.ylabel('Ranking (higher is rarer)')\n",
    "min_bp = list()\n",
    "for word in V[min_doc['word_id']]:\n",
    "    min_bp.append(np.where(ranked_words==word)[0][0])\n",
    "plt.boxplot(min_bp)\n",
    "print()\n",
    "max_doc = B[B['doc_id'] == max_perp_doc_id]\n",
    "print('Per-word perplexity:', max_perp['perp'])\n",
    "print(V[max_doc['word_id']])\n",
    "\n",
    "plt.subplot(2, 2, 2)\n",
    "plt.title('Highest perplexity document')\n",
    "plt.ylabel('Ranking (higher is rarer)')\n",
    "max_bp = list()\n",
    "for word in V[max_doc['word_id']]:\n",
    "    max_bp.append(np.where(ranked_words==word)[0][0])\n",
    "    \n",
    "plt.boxplot(max_bp)\n",
    "plt.tight_layout()\n",
    "print()"
   ]
  },
  {
   "cell_type": "markdown",
   "metadata": {},
   "source": [
    "A lower perplexity indicates that the model is more certain about a prediction; i.e. lower is better. The lowest perplexity document is 399 per word. This means that the model is as uncertain on the sample as it would be if it were made to choose randomly on a 399-side dice for each word. The same goes for the highest perplexity document, with perplexity 7395 per word.\n",
    "\n",
    "For the lowest perplexity document, as can be seen above the words are all fairly common, for example 'bush', 'kerry' are the most commonly occurring words. Thus the model is not surprised by this document. \n",
    "\n",
    "On the other hand, for the highest perplexity document, there are many rare words, meaning the perplexity will be high because the model is less certain. This can be seen in the box plots above, where the rank in the frequency table of all words (defined in question (a)), for all the words in the document are displayed. The higher perplexity document clearly has a much more spread out and rarer selection of words than the lower perplexity document."
   ]
  },
  {
   "cell_type": "markdown",
   "metadata": {},
   "source": [
    "## Question (d): Gibbs sampler for the mixture-of-multinomials model\n",
    "\n",
    "The Bayesian mixture-of-multinomials model can be described by the following code:"
   ]
  },
  {
   "cell_type": "code",
   "execution_count": 6,
   "metadata": {},
   "outputs": [
    {
     "name": "stdout",
     "output_type": "stream",
     "text": [
      "['destroy' 'accusations' 'frist' 'samarra' 'unnecessary']\n",
      "['layoffs' 'online']\n",
      "['released' 'listened' 'loss' 'mcgreevey']\n"
     ]
    }
   ],
   "source": [
    "def bmm_generate(doc_length, V, α, γ, K):\n",
    "    # doc_length = [num words in doc1, num words in doc2, ...]\n",
    "    θ = np.random.dirichlet(α * np.ones(K))              # prob dist over document classes {1,...,K}\n",
    "    β = np.random.dirichlet(γ * np.ones(len(V)), size=K) # for each doc class, a prob dist over words\n",
    "    z = np.random.choice(K, p=θ, size=len(doc_length))   # doc class of each document\n",
    "    return [np.random.choice(V, p=β[zd], size=nd) for zd,nd in zip(z, doc_length)]\n",
    "\n",
    "for doc in bmm_generate(doc_length=[5,2,4], V=V, α=10, γ=.1, K=20):\n",
    "    print(doc)"
   ]
  },
  {
   "cell_type": "markdown",
   "metadata": {},
   "source": [
    "The following code implements a collapsed Gibbs sampler. Complete the line that defines `logp`. In each sweep, the Gibbs sampler produces a sample of document classes, and this sample induces a posterior predictive distribution for the probability of each class. Plot how this distribution evolves as a function of the number of Gibbs sweeps. How many iterations does it take to converge?\n",
    "```\n",
    "```\n",
    "The Gibbs sampler may be run as follows:"
   ]
  },
  {
   "cell_type": "code",
   "execution_count": 99,
   "metadata": {},
   "outputs": [],
   "source": [
    "def bmm_gibbs(doc_label, word_id, count, W, α, γ, K):\n",
    "    # doc_labels = distinct values of doc_label\n",
    "    # doc_index = a list as long as doc_label\n",
    "    #             such that doc_labels[doc_index[j]] = doc_label[j]\n",
    "    doc_labels, doc_index = np.unique(doc_label, return_inverse=True)\n",
    "\n",
    "    # z[i] = class of document i, where i enumerates the distinct doc_labels\n",
    "    # doc_count[k] = number of documents of class k\n",
    "    z = np.random.choice(K, len(doc_labels))\n",
    "    doc_count = np.zeros(K, dtype=int)\n",
    "    for k in z: doc_count[k] += 1\n",
    "\n",
    "    # occurrences[k,w] = number of occurrences of word_id w in documents of class k\n",
    "    # word_count[k] = total number of words in documents of class k\n",
    "    x = pandas.DataFrame({'doc_class': z[doc_index], 'word_id': word_id, 'count': count}) \\\n",
    "        .groupby(['doc_class', 'word_id']) \\\n",
    "        ['count'].apply(sum) \\\n",
    "        .unstack(fill_value=0)\n",
    "    occurrences = np.zeros((K, len(V)))\n",
    "    occurrences[x.index.values.reshape((-1,1)), x.columns.values] = x\n",
    "    word_count = np.sum(occurrences, axis=1)\n",
    "    \n",
    "    while True:\n",
    "        for i in range(len(doc_labels)):\n",
    "\n",
    "            # get the words,counts for document i\n",
    "            # and remove this document from the counts\n",
    "            w,c = word_id[doc_index==i].values, count[doc_index==i].values\n",
    "            occurrences[z[i], w] -= c\n",
    "            word_count[z[i]] -= sum(c)\n",
    "            doc_count[z[i]] -= 1\n",
    "\n",
    "            # Find the log probability that this document belongs to class k, marginalized over θ and β\n",
    "            #logp = [... for k in range(K)]\n",
    "            logp = [(np.log(α+doc_count[k]) + \n",
    "                     np.dot(np.log(occurrences[k,w]+γ) - np.log(word_count[k]+γ*W), \n",
    "                            c.T)\n",
    "                    ) for k in range(K)]\n",
    "            p = np.exp(logp - np.max(logp))\n",
    "            p = p/sum(p)\n",
    "\n",
    "            # Assign this document to a new class, chosen randomly, and add back the counts\n",
    "            k = np.random.choice(K, p=p)\n",
    "            z[i] = k\n",
    "            occurrences[k, w] += c\n",
    "            word_count[k] += sum(c)\n",
    "            doc_count[k] += 1\n",
    "        \n",
    "        yield np.copy(z), doc_count, occurrences, word_count\n"
   ]
  },
  {
   "cell_type": "code",
   "execution_count": 105,
   "metadata": {},
   "outputs": [],
   "source": [
    "g = bmm_gibbs(A['doc_id'], A['word_id'], A['count'], W=len(V), α=10, γ=.1, K=20)\n",
    "NUM_ITERATIONS = 20\n",
    "res = np.stack([next(g) for _ in range(NUM_ITERATIONS)])\n",
    "# this produces a matrix with one row per iteration and a column for each unique doc_id"
   ]
  },
  {
   "cell_type": "code",
   "execution_count": 106,
   "metadata": {},
   "outputs": [
    {
     "name": "stdout",
     "output_type": "stream",
     "text": [
      "\n"
     ]
    },
    {
     "data": {
      "image/png": "[encoded data removed]",
      "text/plain": [
       "<Figure size 1080x720 with 2 Axes>"
      ]
     },
     "metadata": {
      "needs_background": "light"
     },
     "output_type": "display_data"
    }
   ],
   "source": [
    "assignments = None\n",
    "for i in range(20):\n",
    "    if assignments is None:\n",
    "        assignments = res[i][0]\n",
    "    else:\n",
    "        assignments = np.c_[assignments, res[i][0]]\n",
    "        \n",
    "plt.figure(figsize=(15,10))\n",
    "plt.subplot(2,2,1)\n",
    "plt.plot(range(1,21), np.mean(assignments.T, axis=1))\n",
    "plt.ylabel('mean class assignment')\n",
    "plt.xticks(range(1,21))\n",
    "\n",
    "plt.subplot(2,2,2)\n",
    "plt.plot(range(1,21), np.std(np.mean(assignments.T, axis=1), axis=1))\n",
    "plt.xticks(range(1,21))\n",
    "plt.ylabel('Standard deviation of class assignment')\n",
    "print()"
   ]
  },
  {
   "cell_type": "markdown",
   "metadata": {},
   "source": [
    "When the class assignments settle to a constant mean and standard deviation, it suggests that Gibbs sampling has converged."
   ]
  },
  {
   "cell_type": "markdown",
   "metadata": {},
   "source": [
    "## Question (e): interpretation\n",
    "\n",
    "Let $\\alpha=10$, $\\gamma=0.1$, $K=20$. Run the Gibbs sampler until it converges, and find the posterior predictive probabilities for topics, and for words within each topic. \n",
    "For each the 8 most popular topics, print the probability of the topic and the 8 most probable words and their probabilities.\n",
    "Display probabilities in _shannons_, i.e. display a probability $p$ as $-\\log_2 p$. An increase of 1 shannon corresponds to a 50% decrease in probability.\n",
    "\n",
    "Rerun with different random seeds. Do you think this method has succeeded in identifying topics?\n",
    "\n",
    "**Optional.** There are some words that are very common across all topics. How might we pick out the _distinctive_ words for each topic?"
   ]
  },
  {
   "cell_type": "code",
   "execution_count": 110,
   "metadata": {
    "scrolled": false
   },
   "outputs": [
    {
     "name": "stdout",
     "output_type": "stream",
     "text": [
      "Topic 12, proportion 0.363\n"
     ]
    },
    {
     "data": {
      "text/html": [
       "<div>\n",
       "<style scoped>\n",
       "    .dataframe tbody tr th:only-of-type {\n",
       "        vertical-align: middle;\n",
       "    }\n",
       "\n",
       "    .dataframe tbody tr th {\n",
       "        vertical-align: top;\n",
       "    }\n",
       "\n",
       "    .dataframe thead th {\n",
       "        text-align: right;\n",
       "    }\n",
       "</style>\n",
       "<table border=\"1\" class=\"dataframe\">\n",
       "  <thead>\n",
       "    <tr style=\"text-align: right;\">\n",
       "      <th></th>\n",
       "      <th>Word</th>\n",
       "      <th>Shannons</th>\n",
       "    </tr>\n",
       "  </thead>\n",
       "  <tbody>\n",
       "    <tr>\n",
       "      <th>0</th>\n",
       "      <td>bush</td>\n",
       "      <td>5.8355443896768096</td>\n",
       "    </tr>\n",
       "    <tr>\n",
       "      <th>1</th>\n",
       "      <td>iraq</td>\n",
       "      <td>7.016385168598306</td>\n",
       "    </tr>\n",
       "    <tr>\n",
       "      <th>2</th>\n",
       "      <td>war</td>\n",
       "      <td>7.0722384033318235</td>\n",
       "    </tr>\n",
       "    <tr>\n",
       "      <th>3</th>\n",
       "      <td>kerry</td>\n",
       "      <td>7.324681397897901</td>\n",
       "    </tr>\n",
       "    <tr>\n",
       "      <th>4</th>\n",
       "      <td>president</td>\n",
       "      <td>7.349772378860732</td>\n",
       "    </tr>\n",
       "    <tr>\n",
       "      <th>5</th>\n",
       "      <td>administration</td>\n",
       "      <td>7.5283518456135825</td>\n",
       "    </tr>\n",
       "    <tr>\n",
       "      <th>6</th>\n",
       "      <td>people</td>\n",
       "      <td>7.690809296695799</td>\n",
       "    </tr>\n",
       "    <tr>\n",
       "      <th>7</th>\n",
       "      <td>general</td>\n",
       "      <td>7.948607054163446</td>\n",
       "    </tr>\n",
       "  </tbody>\n",
       "</table>\n",
       "</div>"
      ],
      "text/plain": [
       "             Word            Shannons\n",
       "0            bush  5.8355443896768096\n",
       "1            iraq   7.016385168598306\n",
       "2             war  7.0722384033318235\n",
       "3           kerry   7.324681397897901\n",
       "4       president   7.349772378860732\n",
       "5  administration  7.5283518456135825\n",
       "6          people   7.690809296695799\n",
       "7         general   7.948607054163446"
      ]
     },
     "metadata": {},
     "output_type": "display_data"
    },
    {
     "name": "stdout",
     "output_type": "stream",
     "text": [
      "\n",
      "Topic 3, proportion 0.1255\n"
     ]
    },
    {
     "data": {
      "text/html": [
       "<div>\n",
       "<style scoped>\n",
       "    .dataframe tbody tr th:only-of-type {\n",
       "        vertical-align: middle;\n",
       "    }\n",
       "\n",
       "    .dataframe tbody tr th {\n",
       "        vertical-align: top;\n",
       "    }\n",
       "\n",
       "    .dataframe thead th {\n",
       "        text-align: right;\n",
       "    }\n",
       "</style>\n",
       "<table border=\"1\" class=\"dataframe\">\n",
       "  <thead>\n",
       "    <tr style=\"text-align: right;\">\n",
       "      <th></th>\n",
       "      <th>Word</th>\n",
       "      <th>Shannons</th>\n",
       "    </tr>\n",
       "  </thead>\n",
       "  <tbody>\n",
       "    <tr>\n",
       "      <th>0</th>\n",
       "      <td>senate</td>\n",
       "      <td>6.282838945980267</td>\n",
       "    </tr>\n",
       "    <tr>\n",
       "      <th>1</th>\n",
       "      <td>house</td>\n",
       "      <td>6.476541330705706</td>\n",
       "    </tr>\n",
       "    <tr>\n",
       "      <th>2</th>\n",
       "      <td>race</td>\n",
       "      <td>6.5282254859946365</td>\n",
       "    </tr>\n",
       "    <tr>\n",
       "      <th>3</th>\n",
       "      <td>republican</td>\n",
       "      <td>6.642241746286293</td>\n",
       "    </tr>\n",
       "    <tr>\n",
       "      <th>4</th>\n",
       "      <td>democrats</td>\n",
       "      <td>6.912889336229962</td>\n",
       "    </tr>\n",
       "    <tr>\n",
       "      <th>5</th>\n",
       "      <td>elections</td>\n",
       "      <td>6.953531320727308</td>\n",
       "    </tr>\n",
       "    <tr>\n",
       "      <th>6</th>\n",
       "      <td>democratic</td>\n",
       "      <td>6.953531320727308</td>\n",
       "    </tr>\n",
       "    <tr>\n",
       "      <th>7</th>\n",
       "      <td>state</td>\n",
       "      <td>7.069990297314691</td>\n",
       "    </tr>\n",
       "  </tbody>\n",
       "</table>\n",
       "</div>"
      ],
      "text/plain": [
       "         Word            Shannons\n",
       "0      senate   6.282838945980267\n",
       "1       house   6.476541330705706\n",
       "2        race  6.5282254859946365\n",
       "3  republican   6.642241746286293\n",
       "4   democrats   6.912889336229962\n",
       "5   elections   6.953531320727308\n",
       "6  democratic   6.953531320727308\n",
       "7       state   7.069990297314691"
      ]
     },
     "metadata": {},
     "output_type": "display_data"
    },
    {
     "name": "stdout",
     "output_type": "stream",
     "text": [
      "\n",
      "Topic 14, proportion 0.098\n"
     ]
    },
    {
     "data": {
      "text/html": [
       "<div>\n",
       "<style scoped>\n",
       "    .dataframe tbody tr th:only-of-type {\n",
       "        vertical-align: middle;\n",
       "    }\n",
       "\n",
       "    .dataframe tbody tr th {\n",
       "        vertical-align: top;\n",
       "    }\n",
       "\n",
       "    .dataframe thead th {\n",
       "        text-align: right;\n",
       "    }\n",
       "</style>\n",
       "<table border=\"1\" class=\"dataframe\">\n",
       "  <thead>\n",
       "    <tr style=\"text-align: right;\">\n",
       "      <th></th>\n",
       "      <th>Word</th>\n",
       "      <th>Shannons</th>\n",
       "    </tr>\n",
       "  </thead>\n",
       "  <tbody>\n",
       "    <tr>\n",
       "      <th>0</th>\n",
       "      <td>bush</td>\n",
       "      <td>4.665571340364949</td>\n",
       "    </tr>\n",
       "    <tr>\n",
       "      <th>1</th>\n",
       "      <td>kerry</td>\n",
       "      <td>4.948210304138255</td>\n",
       "    </tr>\n",
       "    <tr>\n",
       "      <th>2</th>\n",
       "      <td>poll</td>\n",
       "      <td>5.880900369178828</td>\n",
       "    </tr>\n",
       "    <tr>\n",
       "      <th>3</th>\n",
       "      <td>percent</td>\n",
       "      <td>6.364684035532617</td>\n",
       "    </tr>\n",
       "    <tr>\n",
       "      <th>4</th>\n",
       "      <td>voters</td>\n",
       "      <td>6.399589650480818</td>\n",
       "    </tr>\n",
       "    <tr>\n",
       "      <th>5</th>\n",
       "      <td>general</td>\n",
       "      <td>6.541811723133283</td>\n",
       "    </tr>\n",
       "    <tr>\n",
       "      <th>6</th>\n",
       "      <td>polls</td>\n",
       "      <td>6.670891672298213</td>\n",
       "    </tr>\n",
       "    <tr>\n",
       "      <th>7</th>\n",
       "      <td>states</td>\n",
       "      <td>7.146403030603372</td>\n",
       "    </tr>\n",
       "  </tbody>\n",
       "</table>\n",
       "</div>"
      ],
      "text/plain": [
       "      Word           Shannons\n",
       "0     bush  4.665571340364949\n",
       "1    kerry  4.948210304138255\n",
       "2     poll  5.880900369178828\n",
       "3  percent  6.364684035532617\n",
       "4   voters  6.399589650480818\n",
       "5  general  6.541811723133283\n",
       "6    polls  6.670891672298213\n",
       "7   states  7.146403030603372"
      ]
     },
     "metadata": {},
     "output_type": "display_data"
    },
    {
     "name": "stdout",
     "output_type": "stream",
     "text": [
      "\n",
      "Topic 6, proportion 0.0965\n"
     ]
    },
    {
     "data": {
      "text/html": [
       "<div>\n",
       "<style scoped>\n",
       "    .dataframe tbody tr th:only-of-type {\n",
       "        vertical-align: middle;\n",
       "    }\n",
       "\n",
       "    .dataframe tbody tr th {\n",
       "        vertical-align: top;\n",
       "    }\n",
       "\n",
       "    .dataframe thead th {\n",
       "        text-align: right;\n",
       "    }\n",
       "</style>\n",
       "<table border=\"1\" class=\"dataframe\">\n",
       "  <thead>\n",
       "    <tr style=\"text-align: right;\">\n",
       "      <th></th>\n",
       "      <th>Word</th>\n",
       "      <th>Shannons</th>\n",
       "    </tr>\n",
       "  </thead>\n",
       "  <tbody>\n",
       "    <tr>\n",
       "      <th>0</th>\n",
       "      <td>dean</td>\n",
       "      <td>5.054630262746755</td>\n",
       "    </tr>\n",
       "    <tr>\n",
       "      <th>1</th>\n",
       "      <td>kerry</td>\n",
       "      <td>5.158113120814333</td>\n",
       "    </tr>\n",
       "    <tr>\n",
       "      <th>2</th>\n",
       "      <td>edwards</td>\n",
       "      <td>5.655446714668749</td>\n",
       "    </tr>\n",
       "    <tr>\n",
       "      <th>3</th>\n",
       "      <td>primary</td>\n",
       "      <td>5.793348828016712</td>\n",
       "    </tr>\n",
       "    <tr>\n",
       "      <th>4</th>\n",
       "      <td>clark</td>\n",
       "      <td>5.916887862426875</td>\n",
       "    </tr>\n",
       "    <tr>\n",
       "      <th>5</th>\n",
       "      <td>democratic</td>\n",
       "      <td>5.990385675076266</td>\n",
       "    </tr>\n",
       "    <tr>\n",
       "      <th>6</th>\n",
       "      <td>poll</td>\n",
       "      <td>6.272649552390113</td>\n",
       "    </tr>\n",
       "    <tr>\n",
       "      <th>7</th>\n",
       "      <td>gephardt</td>\n",
       "      <td>6.303543560335896</td>\n",
       "    </tr>\n",
       "  </tbody>\n",
       "</table>\n",
       "</div>"
      ],
      "text/plain": [
       "         Word           Shannons\n",
       "0        dean  5.054630262746755\n",
       "1       kerry  5.158113120814333\n",
       "2     edwards  5.655446714668749\n",
       "3     primary  5.793348828016712\n",
       "4       clark  5.916887862426875\n",
       "5  democratic  5.990385675076266\n",
       "6        poll  6.272649552390113\n",
       "7    gephardt  6.303543560335896"
      ]
     },
     "metadata": {},
     "output_type": "display_data"
    },
    {
     "name": "stdout",
     "output_type": "stream",
     "text": [
      "\n",
      "Topic 10, proportion 0.0725\n"
     ]
    },
    {
     "data": {
      "text/html": [
       "<div>\n",
       "<style scoped>\n",
       "    .dataframe tbody tr th:only-of-type {\n",
       "        vertical-align: middle;\n",
       "    }\n",
       "\n",
       "    .dataframe tbody tr th {\n",
       "        vertical-align: top;\n",
       "    }\n",
       "\n",
       "    .dataframe thead th {\n",
       "        text-align: right;\n",
       "    }\n",
       "</style>\n",
       "<table border=\"1\" class=\"dataframe\">\n",
       "  <thead>\n",
       "    <tr style=\"text-align: right;\">\n",
       "      <th></th>\n",
       "      <th>Word</th>\n",
       "      <th>Shannons</th>\n",
       "    </tr>\n",
       "  </thead>\n",
       "  <tbody>\n",
       "    <tr>\n",
       "      <th>0</th>\n",
       "      <td>campaign</td>\n",
       "      <td>6.401008123864895</td>\n",
       "    </tr>\n",
       "    <tr>\n",
       "      <th>1</th>\n",
       "      <td>party</td>\n",
       "      <td>6.460203916372795</td>\n",
       "    </tr>\n",
       "    <tr>\n",
       "      <th>2</th>\n",
       "      <td>democratic</td>\n",
       "      <td>6.69778274152392</td>\n",
       "    </tr>\n",
       "    <tr>\n",
       "      <th>3</th>\n",
       "      <td>dean</td>\n",
       "      <td>6.939600661448018</td>\n",
       "    </tr>\n",
       "    <tr>\n",
       "      <th>4</th>\n",
       "      <td>bush</td>\n",
       "      <td>6.939600661448018</td>\n",
       "    </tr>\n",
       "    <tr>\n",
       "      <th>5</th>\n",
       "      <td>million</td>\n",
       "      <td>7.0489480576363786</td>\n",
       "    </tr>\n",
       "    <tr>\n",
       "      <th>6</th>\n",
       "      <td>democrats</td>\n",
       "      <td>7.130742148800026</td>\n",
       "    </tr>\n",
       "    <tr>\n",
       "      <th>7</th>\n",
       "      <td>kerry</td>\n",
       "      <td>7.142814981100601</td>\n",
       "    </tr>\n",
       "  </tbody>\n",
       "</table>\n",
       "</div>"
      ],
      "text/plain": [
       "         Word            Shannons\n",
       "0    campaign   6.401008123864895\n",
       "1       party   6.460203916372795\n",
       "2  democratic    6.69778274152392\n",
       "3        dean   6.939600661448018\n",
       "4        bush   6.939600661448018\n",
       "5     million  7.0489480576363786\n",
       "6   democrats   7.130742148800026\n",
       "7       kerry   7.142814981100601"
      ]
     },
     "metadata": {},
     "output_type": "display_data"
    },
    {
     "name": "stdout",
     "output_type": "stream",
     "text": [
      "\n",
      "Topic 9, proportion 0.0515\n"
     ]
    },
    {
     "data": {
      "text/html": [
       "<div>\n",
       "<style scoped>\n",
       "    .dataframe tbody tr th:only-of-type {\n",
       "        vertical-align: middle;\n",
       "    }\n",
       "\n",
       "    .dataframe tbody tr th {\n",
       "        vertical-align: top;\n",
       "    }\n",
       "\n",
       "    .dataframe thead th {\n",
       "        text-align: right;\n",
       "    }\n",
       "</style>\n",
       "<table border=\"1\" class=\"dataframe\">\n",
       "  <thead>\n",
       "    <tr style=\"text-align: right;\">\n",
       "      <th></th>\n",
       "      <th>Word</th>\n",
       "      <th>Shannons</th>\n",
       "    </tr>\n",
       "  </thead>\n",
       "  <tbody>\n",
       "    <tr>\n",
       "      <th>0</th>\n",
       "      <td>november</td>\n",
       "      <td>4.557556343380504</td>\n",
       "    </tr>\n",
       "    <tr>\n",
       "      <th>1</th>\n",
       "      <td>bush</td>\n",
       "      <td>6.34655006256747</td>\n",
       "    </tr>\n",
       "    <tr>\n",
       "      <th>2</th>\n",
       "      <td>kerry</td>\n",
       "      <td>6.464789174796793</td>\n",
       "    </tr>\n",
       "    <tr>\n",
       "      <th>3</th>\n",
       "      <td>voting</td>\n",
       "      <td>6.5223998979668885</td>\n",
       "    </tr>\n",
       "    <tr>\n",
       "      <th>4</th>\n",
       "      <td>house</td>\n",
       "      <td>6.616221920323409</td>\n",
       "    </tr>\n",
       "    <tr>\n",
       "      <th>5</th>\n",
       "      <td>republicans</td>\n",
       "      <td>6.686326158787757</td>\n",
       "    </tr>\n",
       "    <tr>\n",
       "      <th>6</th>\n",
       "      <td>poll</td>\n",
       "      <td>6.686326158787757</td>\n",
       "    </tr>\n",
       "    <tr>\n",
       "      <th>7</th>\n",
       "      <td>senate</td>\n",
       "      <td>6.71047224611946</td>\n",
       "    </tr>\n",
       "  </tbody>\n",
       "</table>\n",
       "</div>"
      ],
      "text/plain": [
       "          Word            Shannons\n",
       "0     november   4.557556343380504\n",
       "1         bush    6.34655006256747\n",
       "2        kerry   6.464789174796793\n",
       "3       voting  6.5223998979668885\n",
       "4        house   6.616221920323409\n",
       "5  republicans   6.686326158787757\n",
       "6         poll   6.686326158787757\n",
       "7       senate    6.71047224611946"
      ]
     },
     "metadata": {},
     "output_type": "display_data"
    },
    {
     "name": "stdout",
     "output_type": "stream",
     "text": [
      "\n",
      "Topic 0, proportion 0.0455\n"
     ]
    },
    {
     "data": {
      "text/html": [
       "<div>\n",
       "<style scoped>\n",
       "    .dataframe tbody tr th:only-of-type {\n",
       "        vertical-align: middle;\n",
       "    }\n",
       "\n",
       "    .dataframe tbody tr th {\n",
       "        vertical-align: top;\n",
       "    }\n",
       "\n",
       "    .dataframe thead th {\n",
       "        text-align: right;\n",
       "    }\n",
       "</style>\n",
       "<table border=\"1\" class=\"dataframe\">\n",
       "  <thead>\n",
       "    <tr style=\"text-align: right;\">\n",
       "      <th></th>\n",
       "      <th>Word</th>\n",
       "      <th>Shannons</th>\n",
       "    </tr>\n",
       "  </thead>\n",
       "  <tbody>\n",
       "    <tr>\n",
       "      <th>0</th>\n",
       "      <td>november</td>\n",
       "      <td>4.487755959215611</td>\n",
       "    </tr>\n",
       "    <tr>\n",
       "      <th>1</th>\n",
       "      <td>poll</td>\n",
       "      <td>6.377395511773106</td>\n",
       "    </tr>\n",
       "    <tr>\n",
       "      <th>2</th>\n",
       "      <td>house</td>\n",
       "      <td>6.518258047612955</td>\n",
       "    </tr>\n",
       "    <tr>\n",
       "      <th>3</th>\n",
       "      <td>senate</td>\n",
       "      <td>6.681263635115476</td>\n",
       "    </tr>\n",
       "    <tr>\n",
       "      <th>4</th>\n",
       "      <td>republicans</td>\n",
       "      <td>6.730411284444565</td>\n",
       "    </tr>\n",
       "    <tr>\n",
       "      <th>5</th>\n",
       "      <td>polls</td>\n",
       "      <td>6.744766577421634</td>\n",
       "    </tr>\n",
       "    <tr>\n",
       "      <th>6</th>\n",
       "      <td>bush</td>\n",
       "      <td>6.796165729928279</td>\n",
       "    </tr>\n",
       "    <tr>\n",
       "      <th>7</th>\n",
       "      <td>governor</td>\n",
       "      <td>6.818767158865412</td>\n",
       "    </tr>\n",
       "  </tbody>\n",
       "</table>\n",
       "</div>"
      ],
      "text/plain": [
       "          Word           Shannons\n",
       "0     november  4.487755959215611\n",
       "1         poll  6.377395511773106\n",
       "2        house  6.518258047612955\n",
       "3       senate  6.681263635115476\n",
       "4  republicans  6.730411284444565\n",
       "5        polls  6.744766577421634\n",
       "6         bush  6.796165729928279\n",
       "7     governor  6.818767158865412"
      ]
     },
     "metadata": {},
     "output_type": "display_data"
    },
    {
     "name": "stdout",
     "output_type": "stream",
     "text": [
      "\n",
      "Topic 15, proportion 0.035\n"
     ]
    },
    {
     "data": {
      "text/html": [
       "<div>\n",
       "<style scoped>\n",
       "    .dataframe tbody tr th:only-of-type {\n",
       "        vertical-align: middle;\n",
       "    }\n",
       "\n",
       "    .dataframe tbody tr th {\n",
       "        vertical-align: top;\n",
       "    }\n",
       "\n",
       "    .dataframe thead th {\n",
       "        text-align: right;\n",
       "    }\n",
       "</style>\n",
       "<table border=\"1\" class=\"dataframe\">\n",
       "  <thead>\n",
       "    <tr style=\"text-align: right;\">\n",
       "      <th></th>\n",
       "      <th>Word</th>\n",
       "      <th>Shannons</th>\n",
       "    </tr>\n",
       "  </thead>\n",
       "  <tbody>\n",
       "    <tr>\n",
       "      <th>0</th>\n",
       "      <td>iraq</td>\n",
       "      <td>5.447654450860943</td>\n",
       "    </tr>\n",
       "    <tr>\n",
       "      <th>1</th>\n",
       "      <td>war</td>\n",
       "      <td>6.25061760380139</td>\n",
       "    </tr>\n",
       "    <tr>\n",
       "      <th>2</th>\n",
       "      <td>iraqi</td>\n",
       "      <td>6.447654450860943</td>\n",
       "    </tr>\n",
       "    <tr>\n",
       "      <th>3</th>\n",
       "      <td>american</td>\n",
       "      <td>6.980778020062481</td>\n",
       "    </tr>\n",
       "    <tr>\n",
       "      <th>4</th>\n",
       "      <td>bush</td>\n",
       "      <td>7.015129524853259</td>\n",
       "    </tr>\n",
       "    <tr>\n",
       "      <th>5</th>\n",
       "      <td>baghdad</td>\n",
       "      <td>7.34577483684173</td>\n",
       "    </tr>\n",
       "    <tr>\n",
       "      <th>6</th>\n",
       "      <td>military</td>\n",
       "      <td>7.412889032700267</td>\n",
       "    </tr>\n",
       "    <tr>\n",
       "      <th>7</th>\n",
       "      <td>forces</td>\n",
       "      <td>7.459431618637297</td>\n",
       "    </tr>\n",
       "  </tbody>\n",
       "</table>\n",
       "</div>"
      ],
      "text/plain": [
       "       Word           Shannons\n",
       "0      iraq  5.447654450860943\n",
       "1       war   6.25061760380139\n",
       "2     iraqi  6.447654450860943\n",
       "3  american  6.980778020062481\n",
       "4      bush  7.015129524853259\n",
       "5   baghdad   7.34577483684173\n",
       "6  military  7.412889032700267\n",
       "7    forces  7.459431618637297"
      ]
     },
     "metadata": {},
     "output_type": "display_data"
    },
    {
     "name": "stdout",
     "output_type": "stream",
     "text": [
      "\n",
      "Topic 4, proportion 0.025\n"
     ]
    },
    {
     "data": {
      "text/html": [
       "<div>\n",
       "<style scoped>\n",
       "    .dataframe tbody tr th:only-of-type {\n",
       "        vertical-align: middle;\n",
       "    }\n",
       "\n",
       "    .dataframe tbody tr th {\n",
       "        vertical-align: top;\n",
       "    }\n",
       "\n",
       "    .dataframe thead th {\n",
       "        text-align: right;\n",
       "    }\n",
       "</style>\n",
       "<table border=\"1\" class=\"dataframe\">\n",
       "  <thead>\n",
       "    <tr style=\"text-align: right;\">\n",
       "      <th></th>\n",
       "      <th>Word</th>\n",
       "      <th>Shannons</th>\n",
       "    </tr>\n",
       "  </thead>\n",
       "  <tbody>\n",
       "    <tr>\n",
       "      <th>0</th>\n",
       "      <td>nader</td>\n",
       "      <td>5.820178962415188</td>\n",
       "    </tr>\n",
       "    <tr>\n",
       "      <th>1</th>\n",
       "      <td>republican</td>\n",
       "      <td>6.121834662276289</td>\n",
       "    </tr>\n",
       "    <tr>\n",
       "      <th>2</th>\n",
       "      <td>ballot</td>\n",
       "      <td>6.173059985631462</td>\n",
       "    </tr>\n",
       "    <tr>\n",
       "      <th>3</th>\n",
       "      <td>party</td>\n",
       "      <td>6.262697198116139</td>\n",
       "    </tr>\n",
       "    <tr>\n",
       "      <th>4</th>\n",
       "      <td>general</td>\n",
       "      <td>6.3781744155360744</td>\n",
       "    </tr>\n",
       "    <tr>\n",
       "      <th>5</th>\n",
       "      <td>voters</td>\n",
       "      <td>6.525731603949932</td>\n",
       "    </tr>\n",
       "    <tr>\n",
       "      <th>6</th>\n",
       "      <td>election</td>\n",
       "      <td>6.525731603949932</td>\n",
       "    </tr>\n",
       "    <tr>\n",
       "      <th>7</th>\n",
       "      <td>state</td>\n",
       "      <td>6.593903106591512</td>\n",
       "    </tr>\n",
       "  </tbody>\n",
       "</table>\n",
       "</div>"
      ],
      "text/plain": [
       "         Word            Shannons\n",
       "0       nader   5.820178962415188\n",
       "1  republican   6.121834662276289\n",
       "2      ballot   6.173059985631462\n",
       "3       party   6.262697198116139\n",
       "4     general  6.3781744155360744\n",
       "5      voters   6.525731603949932\n",
       "6    election   6.525731603949932\n",
       "7       state   6.593903106591512"
      ]
     },
     "metadata": {},
     "output_type": "display_data"
    },
    {
     "name": "stdout",
     "output_type": "stream",
     "text": [
      "\n",
      "Topic 7, proportion 0.019\n"
     ]
    },
    {
     "data": {
      "text/html": [
       "<div>\n",
       "<style scoped>\n",
       "    .dataframe tbody tr th:only-of-type {\n",
       "        vertical-align: middle;\n",
       "    }\n",
       "\n",
       "    .dataframe tbody tr th {\n",
       "        vertical-align: top;\n",
       "    }\n",
       "\n",
       "    .dataframe thead th {\n",
       "        text-align: right;\n",
       "    }\n",
       "</style>\n",
       "<table border=\"1\" class=\"dataframe\">\n",
       "  <thead>\n",
       "    <tr style=\"text-align: right;\">\n",
       "      <th></th>\n",
       "      <th>Word</th>\n",
       "      <th>Shannons</th>\n",
       "    </tr>\n",
       "  </thead>\n",
       "  <tbody>\n",
       "    <tr>\n",
       "      <th>0</th>\n",
       "      <td>ryan</td>\n",
       "      <td>6.589630341763999</td>\n",
       "    </tr>\n",
       "    <tr>\n",
       "      <th>1</th>\n",
       "      <td>edwards</td>\n",
       "      <td>6.655218683391576</td>\n",
       "    </tr>\n",
       "    <tr>\n",
       "      <th>2</th>\n",
       "      <td>campaign</td>\n",
       "      <td>6.72393143347559</td>\n",
       "    </tr>\n",
       "    <tr>\n",
       "      <th>3</th>\n",
       "      <td>john</td>\n",
       "      <td>6.759555343206311</td>\n",
       "    </tr>\n",
       "    <tr>\n",
       "      <th>4</th>\n",
       "      <td>kerry</td>\n",
       "      <td>6.833555924650088</td>\n",
       "    </tr>\n",
       "    <tr>\n",
       "      <th>5</th>\n",
       "      <td>republican</td>\n",
       "      <td>7.174592842485155</td>\n",
       "    </tr>\n",
       "    <tr>\n",
       "      <th>6</th>\n",
       "      <td>news</td>\n",
       "      <td>7.274128516036069</td>\n",
       "    </tr>\n",
       "    <tr>\n",
       "      <th>7</th>\n",
       "      <td>senate</td>\n",
       "      <td>7.274128516036069</td>\n",
       "    </tr>\n",
       "  </tbody>\n",
       "</table>\n",
       "</div>"
      ],
      "text/plain": [
       "         Word           Shannons\n",
       "0        ryan  6.589630341763999\n",
       "1     edwards  6.655218683391576\n",
       "2    campaign   6.72393143347559\n",
       "3        john  6.759555343206311\n",
       "4       kerry  6.833555924650088\n",
       "5  republican  7.174592842485155\n",
       "6        news  7.274128516036069\n",
       "7      senate  7.274128516036069"
      ]
     },
     "metadata": {},
     "output_type": "display_data"
    },
    {
     "name": "stdout",
     "output_type": "stream",
     "text": [
      "\n",
      "Topic 13, proportion 0.0165\n"
     ]
    },
    {
     "data": {
      "text/html": [
       "<div>\n",
       "<style scoped>\n",
       "    .dataframe tbody tr th:only-of-type {\n",
       "        vertical-align: middle;\n",
       "    }\n",
       "\n",
       "    .dataframe tbody tr th {\n",
       "        vertical-align: top;\n",
       "    }\n",
       "\n",
       "    .dataframe thead th {\n",
       "        text-align: right;\n",
       "    }\n",
       "</style>\n",
       "<table border=\"1\" class=\"dataframe\">\n",
       "  <thead>\n",
       "    <tr style=\"text-align: right;\">\n",
       "      <th></th>\n",
       "      <th>Word</th>\n",
       "      <th>Shannons</th>\n",
       "    </tr>\n",
       "  </thead>\n",
       "  <tbody>\n",
       "    <tr>\n",
       "      <th>0</th>\n",
       "      <td>server</td>\n",
       "      <td>6.496654082593496</td>\n",
       "    </tr>\n",
       "    <tr>\n",
       "      <th>1</th>\n",
       "      <td>time</td>\n",
       "      <td>6.648657176038546</td>\n",
       "    </tr>\n",
       "    <tr>\n",
       "      <th>2</th>\n",
       "      <td>kerry</td>\n",
       "      <td>6.91169158187234</td>\n",
       "    </tr>\n",
       "    <tr>\n",
       "      <th>3</th>\n",
       "      <td>elections</td>\n",
       "      <td>6.91169158187234</td>\n",
       "    </tr>\n",
       "    <tr>\n",
       "      <th>4</th>\n",
       "      <td>community</td>\n",
       "      <td>6.91169158187234</td>\n",
       "    </tr>\n",
       "    <tr>\n",
       "      <th>5</th>\n",
       "      <td>oct</td>\n",
       "      <td>7.011227255423254</td>\n",
       "    </tr>\n",
       "    <tr>\n",
       "      <th>6</th>\n",
       "      <td>dkos</td>\n",
       "      <td>7.011227255423254</td>\n",
       "    </tr>\n",
       "    <tr>\n",
       "      <th>7</th>\n",
       "      <td>ive</td>\n",
       "      <td>7.011227255423254</td>\n",
       "    </tr>\n",
       "  </tbody>\n",
       "</table>\n",
       "</div>"
      ],
      "text/plain": [
       "        Word           Shannons\n",
       "0     server  6.496654082593496\n",
       "1       time  6.648657176038546\n",
       "2      kerry   6.91169158187234\n",
       "3  elections   6.91169158187234\n",
       "4  community   6.91169158187234\n",
       "5        oct  7.011227255423254\n",
       "6       dkos  7.011227255423254\n",
       "7        ive  7.011227255423254"
      ]
     },
     "metadata": {},
     "output_type": "display_data"
    },
    {
     "name": "stdout",
     "output_type": "stream",
     "text": [
      "\n",
      "Topic 1, proportion 0.0115\n"
     ]
    },
    {
     "data": {
      "text/html": [
       "<div>\n",
       "<style scoped>\n",
       "    .dataframe tbody tr th:only-of-type {\n",
       "        vertical-align: middle;\n",
       "    }\n",
       "\n",
       "    .dataframe tbody tr th {\n",
       "        vertical-align: top;\n",
       "    }\n",
       "\n",
       "    .dataframe thead th {\n",
       "        text-align: right;\n",
       "    }\n",
       "</style>\n",
       "<table border=\"1\" class=\"dataframe\">\n",
       "  <thead>\n",
       "    <tr style=\"text-align: right;\">\n",
       "      <th></th>\n",
       "      <th>Word</th>\n",
       "      <th>Shannons</th>\n",
       "    </tr>\n",
       "  </thead>\n",
       "  <tbody>\n",
       "    <tr>\n",
       "      <th>0</th>\n",
       "      <td>investigation</td>\n",
       "      <td>6.477206320365274</td>\n",
       "    </tr>\n",
       "    <tr>\n",
       "      <th>1</th>\n",
       "      <td>bush</td>\n",
       "      <td>6.766712937560258</td>\n",
       "    </tr>\n",
       "    <tr>\n",
       "      <th>2</th>\n",
       "      <td>administration</td>\n",
       "      <td>6.821160721582634</td>\n",
       "    </tr>\n",
       "    <tr>\n",
       "      <th>3</th>\n",
       "      <td>federal</td>\n",
       "      <td>6.821160721582634</td>\n",
       "    </tr>\n",
       "    <tr>\n",
       "      <th>4</th>\n",
       "      <td>house</td>\n",
       "      <td>7.06216882108643</td>\n",
       "    </tr>\n",
       "    <tr>\n",
       "      <th>5</th>\n",
       "      <td>libby</td>\n",
       "      <td>7.06216882108643</td>\n",
       "    </tr>\n",
       "    <tr>\n",
       "      <th>6</th>\n",
       "      <td>grand</td>\n",
       "      <td>7.129283016944966</td>\n",
       "    </tr>\n",
       "    <tr>\n",
       "      <th>7</th>\n",
       "      <td>time</td>\n",
       "      <td>7.199672344836364</td>\n",
       "    </tr>\n",
       "  </tbody>\n",
       "</table>\n",
       "</div>"
      ],
      "text/plain": [
       "             Word           Shannons\n",
       "0   investigation  6.477206320365274\n",
       "1            bush  6.766712937560258\n",
       "2  administration  6.821160721582634\n",
       "3         federal  6.821160721582634\n",
       "4           house   7.06216882108643\n",
       "5           libby   7.06216882108643\n",
       "6           grand  7.129283016944966\n",
       "7            time  7.199672344836364"
      ]
     },
     "metadata": {},
     "output_type": "display_data"
    },
    {
     "name": "stdout",
     "output_type": "stream",
     "text": [
      "\n",
      "Topic 11, proportion 0.008\n"
     ]
    },
    {
     "data": {
      "text/html": [
       "<div>\n",
       "<style scoped>\n",
       "    .dataframe tbody tr th:only-of-type {\n",
       "        vertical-align: middle;\n",
       "    }\n",
       "\n",
       "    .dataframe tbody tr th {\n",
       "        vertical-align: top;\n",
       "    }\n",
       "\n",
       "    .dataframe thead th {\n",
       "        text-align: right;\n",
       "    }\n",
       "</style>\n",
       "<table border=\"1\" class=\"dataframe\">\n",
       "  <thead>\n",
       "    <tr style=\"text-align: right;\">\n",
       "      <th></th>\n",
       "      <th>Word</th>\n",
       "      <th>Shannons</th>\n",
       "    </tr>\n",
       "  </thead>\n",
       "  <tbody>\n",
       "    <tr>\n",
       "      <th>0</th>\n",
       "      <td>bush</td>\n",
       "      <td>4.347812254269585</td>\n",
       "    </tr>\n",
       "    <tr>\n",
       "      <th>1</th>\n",
       "      <td>kerry</td>\n",
       "      <td>4.65120439771952</td>\n",
       "    </tr>\n",
       "    <tr>\n",
       "      <th>2</th>\n",
       "      <td>general</td>\n",
       "      <td>5.74636163075986</td>\n",
       "    </tr>\n",
       "    <tr>\n",
       "      <th>3</th>\n",
       "      <td>endorsement</td>\n",
       "      <td>5.813475826618397</td>\n",
       "    </tr>\n",
       "    <tr>\n",
       "      <th>4</th>\n",
       "      <td>oct</td>\n",
       "      <td>5.957865735953572</td>\n",
       "    </tr>\n",
       "    <tr>\n",
       "      <th>5</th>\n",
       "      <td>papers</td>\n",
       "      <td>6.505353531256065</td>\n",
       "    </tr>\n",
       "    <tr>\n",
       "      <th>6</th>\n",
       "      <td>newspaper</td>\n",
       "      <td>6.74636163075986</td>\n",
       "    </tr>\n",
       "    <tr>\n",
       "      <th>7</th>\n",
       "      <td>news</td>\n",
       "      <td>6.883865154509795</td>\n",
       "    </tr>\n",
       "  </tbody>\n",
       "</table>\n",
       "</div>"
      ],
      "text/plain": [
       "          Word           Shannons\n",
       "0         bush  4.347812254269585\n",
       "1        kerry   4.65120439771952\n",
       "2      general   5.74636163075986\n",
       "3  endorsement  5.813475826618397\n",
       "4          oct  5.957865735953572\n",
       "5       papers  6.505353531256065\n",
       "6    newspaper   6.74636163075986\n",
       "7         news  6.883865154509795"
      ]
     },
     "metadata": {},
     "output_type": "display_data"
    },
    {
     "name": "stdout",
     "output_type": "stream",
     "text": [
      "\n",
      "Topic 19, proportion 0.008\n"
     ]
    },
    {
     "data": {
      "text/html": [
       "<div>\n",
       "<style scoped>\n",
       "    .dataframe tbody tr th:only-of-type {\n",
       "        vertical-align: middle;\n",
       "    }\n",
       "\n",
       "    .dataframe tbody tr th {\n",
       "        vertical-align: top;\n",
       "    }\n",
       "\n",
       "    .dataframe thead th {\n",
       "        text-align: right;\n",
       "    }\n",
       "</style>\n",
       "<table border=\"1\" class=\"dataframe\">\n",
       "  <thead>\n",
       "    <tr style=\"text-align: right;\">\n",
       "      <th></th>\n",
       "      <th>Word</th>\n",
       "      <th>Shannons</th>\n",
       "    </tr>\n",
       "  </thead>\n",
       "  <tbody>\n",
       "    <tr>\n",
       "      <th>0</th>\n",
       "      <td>bunning</td>\n",
       "      <td>4.566894207959841</td>\n",
       "    </tr>\n",
       "    <tr>\n",
       "      <th>1</th>\n",
       "      <td>debate</td>\n",
       "      <td>5.746217907404403</td>\n",
       "    </tr>\n",
       "    <tr>\n",
       "      <th>2</th>\n",
       "      <td>mongiardo</td>\n",
       "      <td>5.833680748654742</td>\n",
       "    </tr>\n",
       "    <tr>\n",
       "      <th>3</th>\n",
       "      <td>gotv</td>\n",
       "      <td>5.926790153046223</td>\n",
       "    </tr>\n",
       "    <tr>\n",
       "      <th>4</th>\n",
       "      <td>senate</td>\n",
       "      <td>6.078793246491274</td>\n",
       "    </tr>\n",
       "    <tr>\n",
       "      <th>5</th>\n",
       "      <td>campaign</td>\n",
       "      <td>6.078793246491274</td>\n",
       "    </tr>\n",
       "    <tr>\n",
       "      <th>6</th>\n",
       "      <td>kentucky</td>\n",
       "      <td>6.189824558880018</td>\n",
       "    </tr>\n",
       "    <tr>\n",
       "      <th>7</th>\n",
       "      <td>senator</td>\n",
       "      <td>6.310118792597729</td>\n",
       "    </tr>\n",
       "  </tbody>\n",
       "</table>\n",
       "</div>"
      ],
      "text/plain": [
       "        Word           Shannons\n",
       "0    bunning  4.566894207959841\n",
       "1     debate  5.746217907404403\n",
       "2  mongiardo  5.833680748654742\n",
       "3       gotv  5.926790153046223\n",
       "4     senate  6.078793246491274\n",
       "5   campaign  6.078793246491274\n",
       "6   kentucky  6.189824558880018\n",
       "7    senator  6.310118792597729"
      ]
     },
     "metadata": {},
     "output_type": "display_data"
    },
    {
     "name": "stdout",
     "output_type": "stream",
     "text": [
      "\n",
      "Topic 16, proportion 0.007\n"
     ]
    },
    {
     "data": {
      "text/html": [
       "<div>\n",
       "<style scoped>\n",
       "    .dataframe tbody tr th:only-of-type {\n",
       "        vertical-align: middle;\n",
       "    }\n",
       "\n",
       "    .dataframe tbody tr th {\n",
       "        vertical-align: top;\n",
       "    }\n",
       "\n",
       "    .dataframe thead th {\n",
       "        text-align: right;\n",
       "    }\n",
       "</style>\n",
       "<table border=\"1\" class=\"dataframe\">\n",
       "  <thead>\n",
       "    <tr style=\"text-align: right;\">\n",
       "      <th></th>\n",
       "      <th>Word</th>\n",
       "      <th>Shannons</th>\n",
       "    </tr>\n",
       "  </thead>\n",
       "  <tbody>\n",
       "    <tr>\n",
       "      <th>0</th>\n",
       "      <td>bush</td>\n",
       "      <td>5.146841388329271</td>\n",
       "    </tr>\n",
       "    <tr>\n",
       "      <th>1</th>\n",
       "      <td>administration</td>\n",
       "      <td>5.575684687133145</td>\n",
       "    </tr>\n",
       "    <tr>\n",
       "      <th>2</th>\n",
       "      <td>rice</td>\n",
       "      <td>6.369233809665719</td>\n",
       "    </tr>\n",
       "    <tr>\n",
       "      <th>3</th>\n",
       "      <td>intelligence</td>\n",
       "      <td>6.369233809665719</td>\n",
       "    </tr>\n",
       "    <tr>\n",
       "      <th>4</th>\n",
       "      <td>commission</td>\n",
       "      <td>6.468769483216634</td>\n",
       "    </tr>\n",
       "    <tr>\n",
       "      <th>5</th>\n",
       "      <td>attacks</td>\n",
       "      <td>6.632268215499513</td>\n",
       "    </tr>\n",
       "    <tr>\n",
       "      <th>6</th>\n",
       "      <td>information</td>\n",
       "      <td>6.81669278663694</td>\n",
       "    </tr>\n",
       "    <tr>\n",
       "      <th>7</th>\n",
       "      <td>president</td>\n",
       "      <td>6.954196310386875</td>\n",
       "    </tr>\n",
       "  </tbody>\n",
       "</table>\n",
       "</div>"
      ],
      "text/plain": [
       "             Word           Shannons\n",
       "0            bush  5.146841388329271\n",
       "1  administration  5.575684687133145\n",
       "2            rice  6.369233809665719\n",
       "3    intelligence  6.369233809665719\n",
       "4      commission  6.468769483216634\n",
       "5         attacks  6.632268215499513\n",
       "6     information   6.81669278663694\n",
       "7       president  6.954196310386875"
      ]
     },
     "metadata": {},
     "output_type": "display_data"
    },
    {
     "name": "stdout",
     "output_type": "stream",
     "text": [
      "\n",
      "Topic 8, proportion 0.006\n"
     ]
    },
    {
     "data": {
      "text/html": [
       "<div>\n",
       "<style scoped>\n",
       "    .dataframe tbody tr th:only-of-type {\n",
       "        vertical-align: middle;\n",
       "    }\n",
       "\n",
       "    .dataframe tbody tr th {\n",
       "        vertical-align: top;\n",
       "    }\n",
       "\n",
       "    .dataframe thead th {\n",
       "        text-align: right;\n",
       "    }\n",
       "</style>\n",
       "<table border=\"1\" class=\"dataframe\">\n",
       "  <thead>\n",
       "    <tr style=\"text-align: right;\">\n",
       "      <th></th>\n",
       "      <th>Word</th>\n",
       "      <th>Shannons</th>\n",
       "    </tr>\n",
       "  </thead>\n",
       "  <tbody>\n",
       "    <tr>\n",
       "      <th>0</th>\n",
       "      <td>kerry</td>\n",
       "      <td>4.92283213947754</td>\n",
       "    </tr>\n",
       "    <tr>\n",
       "      <th>1</th>\n",
       "      <td>swift</td>\n",
       "      <td>5.844829627476267</td>\n",
       "    </tr>\n",
       "    <tr>\n",
       "      <th>2</th>\n",
       "      <td>bush</td>\n",
       "      <td>6.005294299669513</td>\n",
       "    </tr>\n",
       "    <tr>\n",
       "      <th>3</th>\n",
       "      <td>boat</td>\n",
       "      <td>6.092757140919852</td>\n",
       "    </tr>\n",
       "    <tr>\n",
       "      <th>4</th>\n",
       "      <td>thurlow</td>\n",
       "      <td>6.092757140919852</td>\n",
       "    </tr>\n",
       "    <tr>\n",
       "      <th>5</th>\n",
       "      <td>campaign</td>\n",
       "      <td>6.092757140919852</td>\n",
       "    </tr>\n",
       "    <tr>\n",
       "      <th>6</th>\n",
       "      <td>star</td>\n",
       "      <td>6.285402218862249</td>\n",
       "    </tr>\n",
       "    <tr>\n",
       "      <th>7</th>\n",
       "      <td>kerrys</td>\n",
       "      <td>6.392317422778761</td>\n",
       "    </tr>\n",
       "  </tbody>\n",
       "</table>\n",
       "</div>"
      ],
      "text/plain": [
       "       Word           Shannons\n",
       "0     kerry   4.92283213947754\n",
       "1     swift  5.844829627476267\n",
       "2      bush  6.005294299669513\n",
       "3      boat  6.092757140919852\n",
       "4   thurlow  6.092757140919852\n",
       "5  campaign  6.092757140919852\n",
       "6      star  6.285402218862249\n",
       "7    kerrys  6.392317422778761"
      ]
     },
     "metadata": {},
     "output_type": "display_data"
    },
    {
     "name": "stdout",
     "output_type": "stream",
     "text": [
      "\n",
      "Topic 17, proportion 0.0035\n"
     ]
    },
    {
     "data": {
      "text/html": [
       "<div>\n",
       "<style scoped>\n",
       "    .dataframe tbody tr th:only-of-type {\n",
       "        vertical-align: middle;\n",
       "    }\n",
       "\n",
       "    .dataframe tbody tr th {\n",
       "        vertical-align: top;\n",
       "    }\n",
       "\n",
       "    .dataframe thead th {\n",
       "        text-align: right;\n",
       "    }\n",
       "</style>\n",
       "<table border=\"1\" class=\"dataframe\">\n",
       "  <thead>\n",
       "    <tr style=\"text-align: right;\">\n",
       "      <th></th>\n",
       "      <th>Word</th>\n",
       "      <th>Shannons</th>\n",
       "    </tr>\n",
       "  </thead>\n",
       "  <tbody>\n",
       "    <tr>\n",
       "      <th>0</th>\n",
       "      <td>november</td>\n",
       "      <td>5.354307387897479</td>\n",
       "    </tr>\n",
       "    <tr>\n",
       "      <th>1</th>\n",
       "      <td>general</td>\n",
       "      <td>6.514772060090725</td>\n",
       "    </tr>\n",
       "    <tr>\n",
       "      <th>2</th>\n",
       "      <td>iraq</td>\n",
       "      <td>6.744253906213492</td>\n",
       "    </tr>\n",
       "    <tr>\n",
       "      <th>3</th>\n",
       "      <td>fallujah</td>\n",
       "      <td>6.901795183199972</td>\n",
       "    </tr>\n",
       "    <tr>\n",
       "      <th>4</th>\n",
       "      <td>war</td>\n",
       "      <td>7.017272400619908</td>\n",
       "    </tr>\n",
       "    <tr>\n",
       "      <th>5</th>\n",
       "      <td>petraeus</td>\n",
       "      <td>7.142803282703767</td>\n",
       "    </tr>\n",
       "    <tr>\n",
       "      <th>6</th>\n",
       "      <td>iraqi</td>\n",
       "      <td>7.2803068064537015</td>\n",
       "    </tr>\n",
       "    <tr>\n",
       "      <th>7</th>\n",
       "      <td>military</td>\n",
       "      <td>7.432309899898752</td>\n",
       "    </tr>\n",
       "  </tbody>\n",
       "</table>\n",
       "</div>"
      ],
      "text/plain": [
       "       Word            Shannons\n",
       "0  november   5.354307387897479\n",
       "1   general   6.514772060090725\n",
       "2      iraq   6.744253906213492\n",
       "3  fallujah   6.901795183199972\n",
       "4       war   7.017272400619908\n",
       "5  petraeus   7.142803282703767\n",
       "6     iraqi  7.2803068064537015\n",
       "7  military   7.432309899898752"
      ]
     },
     "metadata": {},
     "output_type": "display_data"
    },
    {
     "name": "stdout",
     "output_type": "stream",
     "text": [
      "\n",
      "Topic 5, proportion 0.0035\n"
     ]
    },
    {
     "data": {
      "text/html": [
       "<div>\n",
       "<style scoped>\n",
       "    .dataframe tbody tr th:only-of-type {\n",
       "        vertical-align: middle;\n",
       "    }\n",
       "\n",
       "    .dataframe tbody tr th {\n",
       "        vertical-align: top;\n",
       "    }\n",
       "\n",
       "    .dataframe thead th {\n",
       "        text-align: right;\n",
       "    }\n",
       "</style>\n",
       "<table border=\"1\" class=\"dataframe\">\n",
       "  <thead>\n",
       "    <tr style=\"text-align: right;\">\n",
       "      <th></th>\n",
       "      <th>Word</th>\n",
       "      <th>Shannons</th>\n",
       "    </tr>\n",
       "  </thead>\n",
       "  <tbody>\n",
       "    <tr>\n",
       "      <th>0</th>\n",
       "      <td>court</td>\n",
       "      <td>5.373300196608388</td>\n",
       "    </tr>\n",
       "    <tr>\n",
       "      <th>1</th>\n",
       "      <td>scalia</td>\n",
       "      <td>5.447300778052165</td>\n",
       "    </tr>\n",
       "    <tr>\n",
       "      <th>2</th>\n",
       "      <td>state</td>\n",
       "      <td>5.525303290053438</td>\n",
       "    </tr>\n",
       "    <tr>\n",
       "      <th>3</th>\n",
       "      <td>marriage</td>\n",
       "      <td>5.607765450245411</td>\n",
       "    </tr>\n",
       "    <tr>\n",
       "      <th>4</th>\n",
       "      <td>judge</td>\n",
       "      <td>6.110265790774594</td>\n",
       "    </tr>\n",
       "    <tr>\n",
       "      <th>5</th>\n",
       "      <td>january</td>\n",
       "      <td>6.235796672858453</td>\n",
       "    </tr>\n",
       "    <tr>\n",
       "      <th>6</th>\n",
       "      <td>law</td>\n",
       "      <td>6.235796672858453</td>\n",
       "    </tr>\n",
       "    <tr>\n",
       "      <th>7</th>\n",
       "      <td>gay</td>\n",
       "      <td>6.525303290053438</td>\n",
       "    </tr>\n",
       "  </tbody>\n",
       "</table>\n",
       "</div>"
      ],
      "text/plain": [
       "       Word           Shannons\n",
       "0     court  5.373300196608388\n",
       "1    scalia  5.447300778052165\n",
       "2     state  5.525303290053438\n",
       "3  marriage  5.607765450245411\n",
       "4     judge  6.110265790774594\n",
       "5   january  6.235796672858453\n",
       "6       law  6.235796672858453\n",
       "7       gay  6.525303290053438"
      ]
     },
     "metadata": {},
     "output_type": "display_data"
    },
    {
     "name": "stdout",
     "output_type": "stream",
     "text": [
      "\n",
      "Topic 18, proportion 0.0025\n"
     ]
    },
    {
     "data": {
      "text/html": [
       "<div>\n",
       "<style scoped>\n",
       "    .dataframe tbody tr th:only-of-type {\n",
       "        vertical-align: middle;\n",
       "    }\n",
       "\n",
       "    .dataframe tbody tr th {\n",
       "        vertical-align: top;\n",
       "    }\n",
       "\n",
       "    .dataframe thead th {\n",
       "        text-align: right;\n",
       "    }\n",
       "</style>\n",
       "<table border=\"1\" class=\"dataframe\">\n",
       "  <thead>\n",
       "    <tr style=\"text-align: right;\">\n",
       "      <th></th>\n",
       "      <th>Word</th>\n",
       "      <th>Shannons</th>\n",
       "    </tr>\n",
       "  </thead>\n",
       "  <tbody>\n",
       "    <tr>\n",
       "      <th>0</th>\n",
       "      <td>book</td>\n",
       "      <td>4.754887502163468</td>\n",
       "    </tr>\n",
       "    <tr>\n",
       "      <th>1</th>\n",
       "      <td>reviews</td>\n",
       "      <td>5.6293566200796095</td>\n",
       "    </tr>\n",
       "    <tr>\n",
       "      <th>2</th>\n",
       "      <td>seat</td>\n",
       "      <td>5.892391025913404</td>\n",
       "    </tr>\n",
       "    <tr>\n",
       "      <th>3</th>\n",
       "      <td>bumpersticker</td>\n",
       "      <td>5.892391025913404</td>\n",
       "    </tr>\n",
       "    <tr>\n",
       "      <th>4</th>\n",
       "      <td>senate</td>\n",
       "      <td>6.2143191208007655</td>\n",
       "    </tr>\n",
       "    <tr>\n",
       "      <th>5</th>\n",
       "      <td>media</td>\n",
       "      <td>6.2143191208007655</td>\n",
       "    </tr>\n",
       "    <tr>\n",
       "      <th>6</th>\n",
       "      <td>amazon</td>\n",
       "      <td>6.2143191208007655</td>\n",
       "    </tr>\n",
       "    <tr>\n",
       "      <th>7</th>\n",
       "      <td>carolina</td>\n",
       "      <td>6.6293566200796095</td>\n",
       "    </tr>\n",
       "  </tbody>\n",
       "</table>\n",
       "</div>"
      ],
      "text/plain": [
       "            Word            Shannons\n",
       "0           book   4.754887502163468\n",
       "1        reviews  5.6293566200796095\n",
       "2           seat   5.892391025913404\n",
       "3  bumpersticker   5.892391025913404\n",
       "4         senate  6.2143191208007655\n",
       "5          media  6.2143191208007655\n",
       "6         amazon  6.2143191208007655\n",
       "7       carolina  6.6293566200796095"
      ]
     },
     "metadata": {},
     "output_type": "display_data"
    },
    {
     "name": "stdout",
     "output_type": "stream",
     "text": [
      "\n",
      "Topic 2, proportion 0.002\n"
     ]
    },
    {
     "data": {
      "text/html": [
       "<div>\n",
       "<style scoped>\n",
       "    .dataframe tbody tr th:only-of-type {\n",
       "        vertical-align: middle;\n",
       "    }\n",
       "\n",
       "    .dataframe tbody tr th {\n",
       "        vertical-align: top;\n",
       "    }\n",
       "\n",
       "    .dataframe thead th {\n",
       "        text-align: right;\n",
       "    }\n",
       "</style>\n",
       "<table border=\"1\" class=\"dataframe\">\n",
       "  <thead>\n",
       "    <tr style=\"text-align: right;\">\n",
       "      <th></th>\n",
       "      <th>Word</th>\n",
       "      <th>Shannons</th>\n",
       "    </tr>\n",
       "  </thead>\n",
       "  <tbody>\n",
       "    <tr>\n",
       "      <th>0</th>\n",
       "      <td>oceana</td>\n",
       "      <td>5.475733430966398</td>\n",
       "    </tr>\n",
       "    <tr>\n",
       "      <th>1</th>\n",
       "      <td>court</td>\n",
       "      <td>5.823656734386705</td>\n",
       "    </tr>\n",
       "    <tr>\n",
       "      <th>2</th>\n",
       "      <td>clerks</td>\n",
       "      <td>5.823656734386705</td>\n",
       "    </tr>\n",
       "    <tr>\n",
       "      <th>3</th>\n",
       "      <td>fishing</td>\n",
       "      <td>6.113163351581689</td>\n",
       "    </tr>\n",
       "    <tr>\n",
       "      <th>4</th>\n",
       "      <td>sharks</td>\n",
       "      <td>6.283088353024002</td>\n",
       "    </tr>\n",
       "    <tr>\n",
       "      <th>5</th>\n",
       "      <td>bush</td>\n",
       "      <td>6.283088353024002</td>\n",
       "    </tr>\n",
       "    <tr>\n",
       "      <th>6</th>\n",
       "      <td>law</td>\n",
       "      <td>6.283088353024002</td>\n",
       "    </tr>\n",
       "    <tr>\n",
       "      <th>7</th>\n",
       "      <td>myers</td>\n",
       "      <td>6.475733430966398</td>\n",
       "    </tr>\n",
       "  </tbody>\n",
       "</table>\n",
       "</div>"
      ],
      "text/plain": [
       "      Word           Shannons\n",
       "0   oceana  5.475733430966398\n",
       "1    court  5.823656734386705\n",
       "2   clerks  5.823656734386705\n",
       "3  fishing  6.113163351581689\n",
       "4   sharks  6.283088353024002\n",
       "5     bush  6.283088353024002\n",
       "6      law  6.283088353024002\n",
       "7    myers  6.475733430966398"
      ]
     },
     "metadata": {},
     "output_type": "display_data"
    },
    {
     "name": "stdout",
     "output_type": "stream",
     "text": [
      "\n"
     ]
    }
   ],
   "source": [
    "occurrences = res[-1][2]\n",
    "doc_count = res[-1][1]\n",
    "proportions = doc_count/sum(doc_count)\n",
    "\n",
    "sorted_topics = np.argsort(-proportions)\n",
    "for topic in sorted_topics:\n",
    "    indices = np.argsort(-occurrences[topic,:], axis=0).astype(np.int32)[:8]\n",
    "    top_8_words = V[indices]\n",
    "    top_8_probs = -np.log2(occurrences[topic, indices]/sum(occurrences[topic,:]))\n",
    "    print(f'Topic {topic}, proportion {proportions[topic]}')\n",
    "    display(pandas.DataFrame(np.array([top_8_words, top_8_probs]).T, columns=['Word', 'Shannons']))\n",
    "    print()\n"
   ]
  },
  {
   "cell_type": "code",
   "execution_count": 96,
   "metadata": {},
   "outputs": [
    {
     "name": "stdout",
     "output_type": "stream",
     "text": [
      "\n"
     ]
    },
    {
     "data": {
      "image/png": "[encoded data removed]",
      "text/plain": [
       "<Figure size 432x288 with 1 Axes>"
      ]
     },
     "metadata": {
      "needs_background": "light"
     },
     "output_type": "display_data"
    }
   ],
   "source": [
    "plt.bar(np.arange(20), proportions)\n",
    "plt.xticks(range(20))\n",
    "plt.title('Proportion of documents in topics')\n",
    "print()"
   ]
  },
  {
   "cell_type": "markdown",
   "metadata": {},
   "source": [
    "Next we run the Gibbs sampler at different random seeds:\n"
   ]
  },
  {
   "cell_type": "code",
   "execution_count": 76,
   "metadata": {},
   "outputs": [
    {
     "name": "stdout",
     "output_type": "stream",
     "text": [
      "\n"
     ]
    },
    {
     "data": {
      "image/png": "[encoded data removed]",
      "text/plain": [
       "<Figure size 1080x720 with 2 Axes>"
      ]
     },
     "metadata": {
      "needs_background": "light"
     },
     "output_type": "display_data"
    }
   ],
   "source": [
    "np.random.seed(42)\n",
    "g = bmm_gibbs(A['doc_id'], A['word_id'], A['count'], W=len(V), α=10, γ=.1, K=20)\n",
    "NUM_ITERATIONS = 20\n",
    "res = np.stack([next(g) for _ in range(NUM_ITERATIONS)])\n",
    "\n",
    "assignments = None\n",
    "for i in range(20):\n",
    "    if assignments is None:\n",
    "        assignments = res[i][0]\n",
    "    else:\n",
    "        assignments = np.c_[assignments, res[i][0]]\n",
    "        \n",
    "plt.figure(figsize=(15,10))\n",
    "plt.subplot(2,2,1)\n",
    "plt.plot(range(1,21), np.mean(assignments.T, axis=1))\n",
    "plt.ylabel('mean class assignment')\n",
    "plt.xticks(range(1,21))\n",
    "\n",
    "plt.subplot(2,2,2)\n",
    "plt.plot(range(1,21), np.std(assignments.T, axis=1))\n",
    "plt.xticks(range(1,21))\n",
    "plt.ylabel('Standard deviation of class assignment')\n",
    "print()"
   ]
  },
  {
   "cell_type": "code",
   "execution_count": 80,
   "metadata": {},
   "outputs": [
    {
     "name": "stdout",
     "output_type": "stream",
     "text": [
      "\n"
     ]
    },
    {
     "data": {
      "image/png": "[encoded data removed]",
      "text/plain": [
       "<Figure size 432x288 with 1 Axes>"
      ]
     },
     "metadata": {
      "needs_background": "light"
     },
     "output_type": "display_data"
    }
   ],
   "source": [
    "doc_count = res[-1][1]\n",
    "plt.bar(np.arange(20), doc_count/sum(doc_count))\n",
    "plt.xticks(range(20))\n",
    "plt.title('Proportion of documents in topics (random seed=42)')\n",
    "print()"
   ]
  },
  {
   "cell_type": "code",
   "execution_count": 108,
   "metadata": {},
   "outputs": [
    {
     "name": "stdout",
     "output_type": "stream",
     "text": [
      "\n"
     ]
    },
    {
     "data": {
      "image/png": "[encoded data removed]",
      "text/plain": [
       "<Figure size 1080x720 with 2 Axes>"
      ]
     },
     "metadata": {
      "needs_background": "light"
     },
     "output_type": "display_data"
    }
   ],
   "source": [
    "np.random.seed(24)\n",
    "g = bmm_gibbs(A['doc_id'], A['word_id'], A['count'], W=len(V), α=10, γ=.1, K=20)\n",
    "NUM_ITERATIONS = 20\n",
    "res = np.stack([next(g) for _ in range(NUM_ITERATIONS)])\n",
    "\n",
    "assignments = None\n",
    "for i in range(20):\n",
    "    if assignments is None:\n",
    "        assignments = res[i][0]\n",
    "    else:\n",
    "        assignments = np.c_[assignments, res[i][0]]\n",
    "        \n",
    "plt.figure(figsize=(15,10))\n",
    "plt.subplot(2,2,1)\n",
    "plt.plot(range(1,21), np.mean(assignments.T, axis=1))\n",
    "plt.ylabel('mean class assignment')\n",
    "plt.xticks(range(1,21))\n",
    "\n",
    "plt.subplot(2,2,2)\n",
    "plt.plot(range(1,21), np.std(assignments.T, axis=1))\n",
    "plt.xticks(range(1,21))\n",
    "plt.ylabel('Standard deviation of class assignment')\n",
    "print()"
   ]
  },
  {
   "cell_type": "code",
   "execution_count": 109,
   "metadata": {},
   "outputs": [
    {
     "name": "stdout",
     "output_type": "stream",
     "text": [
      "\n"
     ]
    },
    {
     "data": {
      "image/png": "[encoded data removed]",
      "text/plain": [
       "<Figure size 432x288 with 1 Axes>"
      ]
     },
     "metadata": {
      "needs_background": "light"
     },
     "output_type": "display_data"
    }
   ],
   "source": [
    "doc_count = res[-1][1]\n",
    "plt.bar(np.arange(20), doc_count/sum(doc_count))\n",
    "plt.xticks(range(20))\n",
    "plt.title('Proportion of documents in topics (random seed=24)')\n",
    "print()"
   ]
  },
  {
   "cell_type": "markdown",
   "metadata": {},
   "source": [
    "This suggests that the final predictive posterior very much depends on where the Gibbs sampling starts. With random seed 42 the assignments are heavily weighted with more than 40\\% of documents in topic 16."
   ]
  },
  {
   "cell_type": "markdown",
   "metadata": {},
   "source": [
    "## Question (f): evaluation\n",
    "\n",
    "**Optional.** Give a formula for per-word perplexity for the mixture model, in terms of the posterior predictive probabilities for topics and words.\n",
    "\n",
    "**Optional.** Plot a histogram showing the distribution of per-word perplexity over all the test documents for the model in part (e). Also plot the histogram obtained from $K=8$, and the histogram from the plain multinomial model in part (c). Which model do you prefer, and why?"
   ]
  }
 ],
 "metadata": {
  "kernelspec": {
   "display_name": "Python 3",
   "language": "python",
   "name": "python3"
  },
  "language_info": {
   "codemirror_mode": {
    "name": "ipython",
    "version": 3
   },
   "file_extension": ".py",
   "mimetype": "text/x-python",
   "name": "python",
   "nbconvert_exporter": "python",
   "pygments_lexer": "ipython3",
   "version": "3.7.0"
  }
 },
 "nbformat": 4,
 "nbformat_minor": 2
}
